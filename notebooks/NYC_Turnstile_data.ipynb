{
 "cells": [
  {
   "cell_type": "code",
   "execution_count": null,
   "metadata": {},
   "outputs": [],
   "source": []
  },
  {
   "cell_type": "code",
   "execution_count": 118,
   "metadata": {},
   "outputs": [
    {
     "data": {
      "text/html": [
       "<div>\n",
       "<style scoped>\n",
       "    .dataframe tbody tr th:only-of-type {\n",
       "        vertical-align: middle;\n",
       "    }\n",
       "\n",
       "    .dataframe tbody tr th {\n",
       "        vertical-align: top;\n",
       "    }\n",
       "\n",
       "    .dataframe thead th {\n",
       "        text-align: right;\n",
       "    }\n",
       "</style>\n",
       "<table border=\"1\" class=\"dataframe\">\n",
       "  <thead>\n",
       "    <tr style=\"text-align: right;\">\n",
       "      <th></th>\n",
       "      <th>TurnstileStationName</th>\n",
       "      <th>StationLocationName</th>\n",
       "    </tr>\n",
       "  </thead>\n",
       "  <tbody>\n",
       "    <tr>\n",
       "      <td>0</td>\n",
       "      <td>1 AV</td>\n",
       "      <td>1st Av</td>\n",
       "    </tr>\n",
       "    <tr>\n",
       "      <td>1</td>\n",
       "      <td>103 ST</td>\n",
       "      <td>103rd St</td>\n",
       "    </tr>\n",
       "    <tr>\n",
       "      <td>2</td>\n",
       "      <td>103 ST-CORONA</td>\n",
       "      <td>103rd St</td>\n",
       "    </tr>\n",
       "    <tr>\n",
       "      <td>3</td>\n",
       "      <td>104 ST</td>\n",
       "      <td>104th St-102nd St</td>\n",
       "    </tr>\n",
       "    <tr>\n",
       "      <td>4</td>\n",
       "      <td>110 ST</td>\n",
       "      <td>110th St</td>\n",
       "    </tr>\n",
       "  </tbody>\n",
       "</table>\n",
       "</div>"
      ],
      "text/plain": [
       "  TurnstileStationName StationLocationName\n",
       "0                 1 AV              1st Av\n",
       "1               103 ST            103rd St\n",
       "2        103 ST-CORONA            103rd St\n",
       "3               104 ST   104th St-102nd St\n",
       "4               110 ST            110th St"
      ]
     },
     "execution_count": 118,
     "metadata": {},
     "output_type": "execute_result"
    }
   ],
   "source": [
    "snm_df=pd.read_csv('../data/StationNamesMap.csv') #, index_col='TurnstileStationName')\n",
    "snm_df.head()"
   ]
  },
  {
   "cell_type": "code",
   "execution_count": 127,
   "metadata": {},
   "outputs": [
    {
     "data": {
      "text/html": [
       "<div>\n",
       "<style scoped>\n",
       "    .dataframe tbody tr th:only-of-type {\n",
       "        vertical-align: middle;\n",
       "    }\n",
       "\n",
       "    .dataframe tbody tr th {\n",
       "        vertical-align: top;\n",
       "    }\n",
       "\n",
       "    .dataframe thead th {\n",
       "        text-align: right;\n",
       "    }\n",
       "</style>\n",
       "<table border=\"1\" class=\"dataframe\">\n",
       "  <thead>\n",
       "    <tr style=\"text-align: right;\">\n",
       "      <th></th>\n",
       "      <th>Station_Name</th>\n",
       "      <th>Station_Latitude</th>\n",
       "      <th>Station_Longitude</th>\n",
       "    </tr>\n",
       "  </thead>\n",
       "  <tbody>\n",
       "    <tr>\n",
       "      <td>0</td>\n",
       "      <td>Ditmars Blvd</td>\n",
       "      <td>40.775036</td>\n",
       "      <td>-73.912034</td>\n",
       "    </tr>\n",
       "    <tr>\n",
       "      <td>1</td>\n",
       "      <td>Astoria Blvd-Hoyt Av</td>\n",
       "      <td>40.770258</td>\n",
       "      <td>-73.917843</td>\n",
       "    </tr>\n",
       "    <tr>\n",
       "      <td>2</td>\n",
       "      <td>30 Av-Grand Av</td>\n",
       "      <td>40.766779</td>\n",
       "      <td>-73.921479</td>\n",
       "    </tr>\n",
       "    <tr>\n",
       "      <td>3</td>\n",
       "      <td>Broadway</td>\n",
       "      <td>40.761820</td>\n",
       "      <td>-73.925508</td>\n",
       "    </tr>\n",
       "    <tr>\n",
       "      <td>4</td>\n",
       "      <td>36 Av-Washington Av</td>\n",
       "      <td>40.756804</td>\n",
       "      <td>-73.929575</td>\n",
       "    </tr>\n",
       "  </tbody>\n",
       "</table>\n",
       "</div>"
      ],
      "text/plain": [
       "           Station_Name  Station_Latitude  Station_Longitude\n",
       "0          Ditmars Blvd         40.775036         -73.912034\n",
       "1  Astoria Blvd-Hoyt Av         40.770258         -73.917843\n",
       "2        30 Av-Grand Av         40.766779         -73.921479\n",
       "3              Broadway         40.761820         -73.925508\n",
       "4   36 Av-Washington Av         40.756804         -73.929575"
      ]
     },
     "execution_count": 127,
     "metadata": {},
     "output_type": "execute_result"
    }
   ],
   "source": [
    "lat_lon_df = pd.read_csv('station_lat_lon.csv')\n",
    "lat_lon_df.head()"
   ]
  },
  {
   "cell_type": "code",
   "execution_count": 5,
   "metadata": {},
   "outputs": [],
   "source": [
    "# Borrowed from Metis class, generates integers.\n",
    "def generate_numbers():\n",
    "    \"\"\"\n",
    "    An infinite number generator ... stolen from Metis\n",
    "    \"\"\"\n",
    "    x = 0\n",
    "    while True:\n",
    "        x += 1\n",
    "        yield x # instead of return, I use yield, which makes this into a generator!\n",
    "\n",
    "id_gen = generate_numbers()"
   ]
  },
  {
   "cell_type": "code",
   "execution_count": 99,
   "metadata": {},
   "outputs": [],
   "source": [
    "# Imports\n",
    "import pandas as pd\n",
    "import matplotlib.pyplot as plt\n",
    "import numpy as np\n",
    "import seaborn as sns\n",
    "import pickle\n",
    "from glob import glob\n",
    "from datetime import datetime, date, time, timedelta\n",
    "from collections import defaultdict"
   ]
  },
  {
   "cell_type": "code",
   "execution_count": 8,
   "metadata": {},
   "outputs": [],
   "source": [
    "# Set the number of rows to display when viewing dataframes / head / tail\n",
    "pd.set_option(\"display.max_rows\", 101)"
   ]
  },
  {
   "cell_type": "code",
   "execution_count": 9,
   "metadata": {},
   "outputs": [],
   "source": [
    "# A function for viewing problematic rows. Show preceeding and following rows.\n",
    "def sample(frame, index):\n",
    "    \"\"\"Returns three lines from a dataframe centered around the index parameter\"\"\"\n",
    "    return frame.loc[index-1:index+1]"
   ]
  },
  {
   "cell_type": "code",
   "execution_count": 10,
   "metadata": {},
   "outputs": [],
   "source": [
    "def am_pm(datetime_series):\n",
    "    \"\"\"Creates a Pandas Series object with the same index as the input index and values of\n",
    "    AM or PM depeneding on the supplied timestamp.\"\"\"\n",
    "    s = pd.Series(index=datetime_series.index)\n",
    "    for index, value in datetime_series.items():\n",
    "        entry_time = datetime_series[index].time()\n",
    "        if  entry_time > time(12,0,0) or entry_time == time(0,0,0):\n",
    "            s[index] = 'PM'\n",
    "        else:\n",
    "            s[index] = 'AM'\n",
    "    return s"
   ]
  },
  {
   "cell_type": "code",
   "execution_count": 11,
   "metadata": {},
   "outputs": [],
   "source": [
    "def simplify_id(series):\n",
    "    \"\"\"Takes a series and changes the values to simple integers. This is to speed up comparisons\"\"\"\n",
    "    s = pd.Series(index=series.index)\n",
    "    id_set = set(series)\n",
    "    d = {val : next(id_gen) for val in id_set}\n",
    "    for index, value in series.iteritems():\n",
    "        s[index] = d[value]\n",
    "    return s"
   ]
  },
  {
   "cell_type": "code",
   "execution_count": 12,
   "metadata": {},
   "outputs": [
    {
     "data": {
      "text/html": [
       "<div>\n",
       "<style scoped>\n",
       "    .dataframe tbody tr th:only-of-type {\n",
       "        vertical-align: middle;\n",
       "    }\n",
       "\n",
       "    .dataframe tbody tr th {\n",
       "        vertical-align: top;\n",
       "    }\n",
       "\n",
       "    .dataframe thead th {\n",
       "        text-align: right;\n",
       "    }\n",
       "</style>\n",
       "<table border=\"1\" class=\"dataframe\">\n",
       "  <thead>\n",
       "    <tr style=\"text-align: right;\">\n",
       "      <th></th>\n",
       "      <th>C/A</th>\n",
       "      <th>UNIT</th>\n",
       "      <th>SCP</th>\n",
       "      <th>STATION</th>\n",
       "      <th>LINENAME</th>\n",
       "      <th>DIVISION</th>\n",
       "      <th>DATE</th>\n",
       "      <th>TIME</th>\n",
       "      <th>DESC</th>\n",
       "      <th>ENTRIES</th>\n",
       "      <th>EXITS</th>\n",
       "    </tr>\n",
       "  </thead>\n",
       "  <tbody>\n",
       "    <tr>\n",
       "      <td>0</td>\n",
       "      <td>A002</td>\n",
       "      <td>R051</td>\n",
       "      <td>02-00-00</td>\n",
       "      <td>59 ST</td>\n",
       "      <td>NQR456W</td>\n",
       "      <td>BMT</td>\n",
       "      <td>03/23/2019</td>\n",
       "      <td>00:00:00</td>\n",
       "      <td>REGULAR</td>\n",
       "      <td>6989774</td>\n",
       "      <td>2370411</td>\n",
       "    </tr>\n",
       "    <tr>\n",
       "      <td>1</td>\n",
       "      <td>A002</td>\n",
       "      <td>R051</td>\n",
       "      <td>02-00-00</td>\n",
       "      <td>59 ST</td>\n",
       "      <td>NQR456W</td>\n",
       "      <td>BMT</td>\n",
       "      <td>03/23/2019</td>\n",
       "      <td>04:00:00</td>\n",
       "      <td>REGULAR</td>\n",
       "      <td>6989795</td>\n",
       "      <td>2370413</td>\n",
       "    </tr>\n",
       "    <tr>\n",
       "      <td>2</td>\n",
       "      <td>A002</td>\n",
       "      <td>R051</td>\n",
       "      <td>02-00-00</td>\n",
       "      <td>59 ST</td>\n",
       "      <td>NQR456W</td>\n",
       "      <td>BMT</td>\n",
       "      <td>03/23/2019</td>\n",
       "      <td>08:00:00</td>\n",
       "      <td>REGULAR</td>\n",
       "      <td>6989813</td>\n",
       "      <td>2370436</td>\n",
       "    </tr>\n",
       "    <tr>\n",
       "      <td>3</td>\n",
       "      <td>A002</td>\n",
       "      <td>R051</td>\n",
       "      <td>02-00-00</td>\n",
       "      <td>59 ST</td>\n",
       "      <td>NQR456W</td>\n",
       "      <td>BMT</td>\n",
       "      <td>03/23/2019</td>\n",
       "      <td>12:00:00</td>\n",
       "      <td>REGULAR</td>\n",
       "      <td>6989924</td>\n",
       "      <td>2370512</td>\n",
       "    </tr>\n",
       "    <tr>\n",
       "      <td>4</td>\n",
       "      <td>A002</td>\n",
       "      <td>R051</td>\n",
       "      <td>02-00-00</td>\n",
       "      <td>59 ST</td>\n",
       "      <td>NQR456W</td>\n",
       "      <td>BMT</td>\n",
       "      <td>03/23/2019</td>\n",
       "      <td>16:00:00</td>\n",
       "      <td>REGULAR</td>\n",
       "      <td>6990200</td>\n",
       "      <td>2370573</td>\n",
       "    </tr>\n",
       "  </tbody>\n",
       "</table>\n",
       "</div>"
      ],
      "text/plain": [
       "    C/A  UNIT       SCP STATION LINENAME DIVISION        DATE      TIME  \\\n",
       "0  A002  R051  02-00-00   59 ST  NQR456W      BMT  03/23/2019  00:00:00   \n",
       "1  A002  R051  02-00-00   59 ST  NQR456W      BMT  03/23/2019  04:00:00   \n",
       "2  A002  R051  02-00-00   59 ST  NQR456W      BMT  03/23/2019  08:00:00   \n",
       "3  A002  R051  02-00-00   59 ST  NQR456W      BMT  03/23/2019  12:00:00   \n",
       "4  A002  R051  02-00-00   59 ST  NQR456W      BMT  03/23/2019  16:00:00   \n",
       "\n",
       "      DESC  ENTRIES  \\\n",
       "0  REGULAR  6989774   \n",
       "1  REGULAR  6989795   \n",
       "2  REGULAR  6989813   \n",
       "3  REGULAR  6989924   \n",
       "4  REGULAR  6990200   \n",
       "\n",
       "   EXITS                                                                 \n",
       "0                                            2370411                     \n",
       "1                                            2370413                     \n",
       "2                                            2370436                     \n",
       "3                                            2370512                     \n",
       "4                                            2370573                     "
      ]
     },
     "execution_count": 12,
     "metadata": {},
     "output_type": "execute_result"
    }
   ],
   "source": [
    "# Read data files\n",
    "# list_of_data_files = glob('../data/*.txt')\n",
    "list_of_data_files = glob('../data/turnstile_190330.txt')\n",
    "list_of_data_files\n",
    "\n",
    "# Read data files into pandas dataframes\n",
    "list_of_dataframes = [pd.read_csv(file) for file in list_of_data_files]\n",
    "df = pd.concat(list_of_dataframes)\n",
    "df.head()"
   ]
  },
  {
   "cell_type": "code",
   "execution_count": 122,
   "metadata": {},
   "outputs": [
    {
     "data": {
      "text/html": [
       "<div>\n",
       "<style scoped>\n",
       "    .dataframe tbody tr th:only-of-type {\n",
       "        vertical-align: middle;\n",
       "    }\n",
       "\n",
       "    .dataframe tbody tr th {\n",
       "        vertical-align: top;\n",
       "    }\n",
       "\n",
       "    .dataframe thead th {\n",
       "        text-align: right;\n",
       "    }\n",
       "</style>\n",
       "<table border=\"1\" class=\"dataframe\">\n",
       "  <thead>\n",
       "    <tr style=\"text-align: right;\">\n",
       "      <th></th>\n",
       "      <th>STATION</th>\n",
       "      <th>DATE</th>\n",
       "      <th>ENTRIES</th>\n",
       "      <th>ID</th>\n",
       "      <th>NEW_ID</th>\n",
       "      <th>DATE_TIME</th>\n",
       "      <th>WEEKDAY</th>\n",
       "      <th>ENTRY_COUNT</th>\n",
       "      <th>TurnstileStationName</th>\n",
       "      <th>StationLocationName</th>\n",
       "    </tr>\n",
       "  </thead>\n",
       "  <tbody>\n",
       "    <tr>\n",
       "      <td>0</td>\n",
       "      <td>59 ST</td>\n",
       "      <td>2019-03-23</td>\n",
       "      <td>6989774</td>\n",
       "      <td>(A002, R051, 02-00-00, 59 ST)</td>\n",
       "      <td>3847.0</td>\n",
       "      <td>2019-03-23 00:00:00</td>\n",
       "      <td>Saturday</td>\n",
       "      <td>0.0</td>\n",
       "      <td>59 ST</td>\n",
       "      <td>59th St</td>\n",
       "    </tr>\n",
       "    <tr>\n",
       "      <td>1</td>\n",
       "      <td>59 ST</td>\n",
       "      <td>2019-03-23</td>\n",
       "      <td>6989795</td>\n",
       "      <td>(A002, R051, 02-00-00, 59 ST)</td>\n",
       "      <td>3847.0</td>\n",
       "      <td>2019-03-23 04:00:00</td>\n",
       "      <td>Saturday</td>\n",
       "      <td>21.0</td>\n",
       "      <td>59 ST</td>\n",
       "      <td>59th St</td>\n",
       "    </tr>\n",
       "    <tr>\n",
       "      <td>2</td>\n",
       "      <td>59 ST</td>\n",
       "      <td>2019-03-23</td>\n",
       "      <td>6989813</td>\n",
       "      <td>(A002, R051, 02-00-00, 59 ST)</td>\n",
       "      <td>3847.0</td>\n",
       "      <td>2019-03-23 08:00:00</td>\n",
       "      <td>Saturday</td>\n",
       "      <td>18.0</td>\n",
       "      <td>59 ST</td>\n",
       "      <td>59th St</td>\n",
       "    </tr>\n",
       "    <tr>\n",
       "      <td>3</td>\n",
       "      <td>59 ST</td>\n",
       "      <td>2019-03-23</td>\n",
       "      <td>6989924</td>\n",
       "      <td>(A002, R051, 02-00-00, 59 ST)</td>\n",
       "      <td>3847.0</td>\n",
       "      <td>2019-03-23 12:00:00</td>\n",
       "      <td>Saturday</td>\n",
       "      <td>111.0</td>\n",
       "      <td>59 ST</td>\n",
       "      <td>59th St</td>\n",
       "    </tr>\n",
       "    <tr>\n",
       "      <td>4</td>\n",
       "      <td>59 ST</td>\n",
       "      <td>2019-03-23</td>\n",
       "      <td>6990200</td>\n",
       "      <td>(A002, R051, 02-00-00, 59 ST)</td>\n",
       "      <td>3847.0</td>\n",
       "      <td>2019-03-23 16:00:00</td>\n",
       "      <td>Saturday</td>\n",
       "      <td>276.0</td>\n",
       "      <td>59 ST</td>\n",
       "      <td>59th St</td>\n",
       "    </tr>\n",
       "  </tbody>\n",
       "</table>\n",
       "</div>"
      ],
      "text/plain": [
       "  STATION        DATE  ENTRIES                             ID  NEW_ID  \\\n",
       "0   59 ST  2019-03-23  6989774  (A002, R051, 02-00-00, 59 ST)  3847.0   \n",
       "1   59 ST  2019-03-23  6989795  (A002, R051, 02-00-00, 59 ST)  3847.0   \n",
       "2   59 ST  2019-03-23  6989813  (A002, R051, 02-00-00, 59 ST)  3847.0   \n",
       "3   59 ST  2019-03-23  6989924  (A002, R051, 02-00-00, 59 ST)  3847.0   \n",
       "4   59 ST  2019-03-23  6990200  (A002, R051, 02-00-00, 59 ST)  3847.0   \n",
       "\n",
       "            DATE_TIME   WEEKDAY  ENTRY_COUNT TurnstileStationName  \\\n",
       "0 2019-03-23 00:00:00  Saturday          0.0                59 ST   \n",
       "1 2019-03-23 04:00:00  Saturday         21.0                59 ST   \n",
       "2 2019-03-23 08:00:00  Saturday         18.0                59 ST   \n",
       "3 2019-03-23 12:00:00  Saturday        111.0                59 ST   \n",
       "4 2019-03-23 16:00:00  Saturday        276.0                59 ST   \n",
       "\n",
       "  StationLocationName  \n",
       "0             59th St  \n",
       "1             59th St  \n",
       "2             59th St  \n",
       "3             59th St  \n",
       "4             59th St  "
      ]
     },
     "execution_count": 122,
     "metadata": {},
     "output_type": "execute_result"
    }
   ],
   "source": [
    "df = df.merge(snm_df, how='inner', left_on='STATION', right_on='TurnstileStationName')\n",
    "df.head()"
   ]
  },
  {
   "cell_type": "code",
   "execution_count": 123,
   "metadata": {},
   "outputs": [],
   "source": [
    "df['STATION'] = df['StationLocationName']"
   ]
  },
  {
   "cell_type": "code",
   "execution_count": 128,
   "metadata": {},
   "outputs": [
    {
     "data": {
      "text/html": [
       "<div>\n",
       "<style scoped>\n",
       "    .dataframe tbody tr th:only-of-type {\n",
       "        vertical-align: middle;\n",
       "    }\n",
       "\n",
       "    .dataframe tbody tr th {\n",
       "        vertical-align: top;\n",
       "    }\n",
       "\n",
       "    .dataframe thead th {\n",
       "        text-align: right;\n",
       "    }\n",
       "</style>\n",
       "<table border=\"1\" class=\"dataframe\">\n",
       "  <thead>\n",
       "    <tr style=\"text-align: right;\">\n",
       "      <th></th>\n",
       "      <th>STATION</th>\n",
       "      <th>DATE</th>\n",
       "      <th>ENTRIES</th>\n",
       "      <th>ID</th>\n",
       "      <th>NEW_ID</th>\n",
       "      <th>DATE_TIME</th>\n",
       "      <th>WEEKDAY</th>\n",
       "      <th>ENTRY_COUNT</th>\n",
       "      <th>TurnstileStationName</th>\n",
       "      <th>StationLocationName</th>\n",
       "      <th>Station_Name</th>\n",
       "      <th>Station_Latitude</th>\n",
       "      <th>Station_Longitude</th>\n",
       "    </tr>\n",
       "  </thead>\n",
       "  <tbody>\n",
       "    <tr>\n",
       "      <td>0</td>\n",
       "      <td>59th St</td>\n",
       "      <td>2019-03-23</td>\n",
       "      <td>6989774</td>\n",
       "      <td>(A002, R051, 02-00-00, 59 ST)</td>\n",
       "      <td>3847.0</td>\n",
       "      <td>2019-03-23 00:00:00</td>\n",
       "      <td>Saturday</td>\n",
       "      <td>0.0</td>\n",
       "      <td>59 ST</td>\n",
       "      <td>59th St</td>\n",
       "      <td>59th St</td>\n",
       "      <td>40.641362</td>\n",
       "      <td>-74.017881</td>\n",
       "    </tr>\n",
       "    <tr>\n",
       "      <td>1</td>\n",
       "      <td>59th St</td>\n",
       "      <td>2019-03-23</td>\n",
       "      <td>6989795</td>\n",
       "      <td>(A002, R051, 02-00-00, 59 ST)</td>\n",
       "      <td>3847.0</td>\n",
       "      <td>2019-03-23 04:00:00</td>\n",
       "      <td>Saturday</td>\n",
       "      <td>21.0</td>\n",
       "      <td>59 ST</td>\n",
       "      <td>59th St</td>\n",
       "      <td>59th St</td>\n",
       "      <td>40.641362</td>\n",
       "      <td>-74.017881</td>\n",
       "    </tr>\n",
       "    <tr>\n",
       "      <td>2</td>\n",
       "      <td>59th St</td>\n",
       "      <td>2019-03-23</td>\n",
       "      <td>6989813</td>\n",
       "      <td>(A002, R051, 02-00-00, 59 ST)</td>\n",
       "      <td>3847.0</td>\n",
       "      <td>2019-03-23 08:00:00</td>\n",
       "      <td>Saturday</td>\n",
       "      <td>18.0</td>\n",
       "      <td>59 ST</td>\n",
       "      <td>59th St</td>\n",
       "      <td>59th St</td>\n",
       "      <td>40.641362</td>\n",
       "      <td>-74.017881</td>\n",
       "    </tr>\n",
       "    <tr>\n",
       "      <td>3</td>\n",
       "      <td>59th St</td>\n",
       "      <td>2019-03-23</td>\n",
       "      <td>6989924</td>\n",
       "      <td>(A002, R051, 02-00-00, 59 ST)</td>\n",
       "      <td>3847.0</td>\n",
       "      <td>2019-03-23 12:00:00</td>\n",
       "      <td>Saturday</td>\n",
       "      <td>111.0</td>\n",
       "      <td>59 ST</td>\n",
       "      <td>59th St</td>\n",
       "      <td>59th St</td>\n",
       "      <td>40.641362</td>\n",
       "      <td>-74.017881</td>\n",
       "    </tr>\n",
       "    <tr>\n",
       "      <td>4</td>\n",
       "      <td>59th St</td>\n",
       "      <td>2019-03-23</td>\n",
       "      <td>6990200</td>\n",
       "      <td>(A002, R051, 02-00-00, 59 ST)</td>\n",
       "      <td>3847.0</td>\n",
       "      <td>2019-03-23 16:00:00</td>\n",
       "      <td>Saturday</td>\n",
       "      <td>276.0</td>\n",
       "      <td>59 ST</td>\n",
       "      <td>59th St</td>\n",
       "      <td>59th St</td>\n",
       "      <td>40.641362</td>\n",
       "      <td>-74.017881</td>\n",
       "    </tr>\n",
       "  </tbody>\n",
       "</table>\n",
       "</div>"
      ],
      "text/plain": [
       "   STATION        DATE  ENTRIES                             ID  NEW_ID  \\\n",
       "0  59th St  2019-03-23  6989774  (A002, R051, 02-00-00, 59 ST)  3847.0   \n",
       "1  59th St  2019-03-23  6989795  (A002, R051, 02-00-00, 59 ST)  3847.0   \n",
       "2  59th St  2019-03-23  6989813  (A002, R051, 02-00-00, 59 ST)  3847.0   \n",
       "3  59th St  2019-03-23  6989924  (A002, R051, 02-00-00, 59 ST)  3847.0   \n",
       "4  59th St  2019-03-23  6990200  (A002, R051, 02-00-00, 59 ST)  3847.0   \n",
       "\n",
       "            DATE_TIME   WEEKDAY  ENTRY_COUNT TurnstileStationName  \\\n",
       "0 2019-03-23 00:00:00  Saturday          0.0                59 ST   \n",
       "1 2019-03-23 04:00:00  Saturday         21.0                59 ST   \n",
       "2 2019-03-23 08:00:00  Saturday         18.0                59 ST   \n",
       "3 2019-03-23 12:00:00  Saturday        111.0                59 ST   \n",
       "4 2019-03-23 16:00:00  Saturday        276.0                59 ST   \n",
       "\n",
       "  StationLocationName Station_Name  Station_Latitude  Station_Longitude  \n",
       "0             59th St      59th St         40.641362         -74.017881  \n",
       "1             59th St      59th St         40.641362         -74.017881  \n",
       "2             59th St      59th St         40.641362         -74.017881  \n",
       "3             59th St      59th St         40.641362         -74.017881  \n",
       "4             59th St      59th St         40.641362         -74.017881  "
      ]
     },
     "execution_count": 128,
     "metadata": {},
     "output_type": "execute_result"
    }
   ],
   "source": [
    "df = df.merge(lat_lon_df, how='inner', left_on='STATION', right_on='Station_Name')\n",
    "df.head()"
   ]
  },
  {
   "cell_type": "code",
   "execution_count": 130,
   "metadata": {},
   "outputs": [],
   "source": [
    "df.drop(['TurnstileStationName', 'StationLocationName', 'Station_Name'], axis=1, inplace=True)"
   ]
  },
  {
   "cell_type": "code",
   "execution_count": 131,
   "metadata": {},
   "outputs": [
    {
     "data": {
      "text/html": [
       "<div>\n",
       "<style scoped>\n",
       "    .dataframe tbody tr th:only-of-type {\n",
       "        vertical-align: middle;\n",
       "    }\n",
       "\n",
       "    .dataframe tbody tr th {\n",
       "        vertical-align: top;\n",
       "    }\n",
       "\n",
       "    .dataframe thead th {\n",
       "        text-align: right;\n",
       "    }\n",
       "</style>\n",
       "<table border=\"1\" class=\"dataframe\">\n",
       "  <thead>\n",
       "    <tr style=\"text-align: right;\">\n",
       "      <th></th>\n",
       "      <th>STATION</th>\n",
       "      <th>DATE</th>\n",
       "      <th>ENTRIES</th>\n",
       "      <th>ID</th>\n",
       "      <th>NEW_ID</th>\n",
       "      <th>DATE_TIME</th>\n",
       "      <th>WEEKDAY</th>\n",
       "      <th>ENTRY_COUNT</th>\n",
       "      <th>Station_Latitude</th>\n",
       "      <th>Station_Longitude</th>\n",
       "    </tr>\n",
       "  </thead>\n",
       "  <tbody>\n",
       "    <tr>\n",
       "      <td>0</td>\n",
       "      <td>59th St</td>\n",
       "      <td>2019-03-23</td>\n",
       "      <td>6989774</td>\n",
       "      <td>(A002, R051, 02-00-00, 59 ST)</td>\n",
       "      <td>3847.0</td>\n",
       "      <td>2019-03-23 00:00:00</td>\n",
       "      <td>Saturday</td>\n",
       "      <td>0.0</td>\n",
       "      <td>40.641362</td>\n",
       "      <td>-74.017881</td>\n",
       "    </tr>\n",
       "    <tr>\n",
       "      <td>1</td>\n",
       "      <td>59th St</td>\n",
       "      <td>2019-03-23</td>\n",
       "      <td>6989795</td>\n",
       "      <td>(A002, R051, 02-00-00, 59 ST)</td>\n",
       "      <td>3847.0</td>\n",
       "      <td>2019-03-23 04:00:00</td>\n",
       "      <td>Saturday</td>\n",
       "      <td>21.0</td>\n",
       "      <td>40.641362</td>\n",
       "      <td>-74.017881</td>\n",
       "    </tr>\n",
       "    <tr>\n",
       "      <td>2</td>\n",
       "      <td>59th St</td>\n",
       "      <td>2019-03-23</td>\n",
       "      <td>6989813</td>\n",
       "      <td>(A002, R051, 02-00-00, 59 ST)</td>\n",
       "      <td>3847.0</td>\n",
       "      <td>2019-03-23 08:00:00</td>\n",
       "      <td>Saturday</td>\n",
       "      <td>18.0</td>\n",
       "      <td>40.641362</td>\n",
       "      <td>-74.017881</td>\n",
       "    </tr>\n",
       "    <tr>\n",
       "      <td>3</td>\n",
       "      <td>59th St</td>\n",
       "      <td>2019-03-23</td>\n",
       "      <td>6989924</td>\n",
       "      <td>(A002, R051, 02-00-00, 59 ST)</td>\n",
       "      <td>3847.0</td>\n",
       "      <td>2019-03-23 12:00:00</td>\n",
       "      <td>Saturday</td>\n",
       "      <td>111.0</td>\n",
       "      <td>40.641362</td>\n",
       "      <td>-74.017881</td>\n",
       "    </tr>\n",
       "    <tr>\n",
       "      <td>4</td>\n",
       "      <td>59th St</td>\n",
       "      <td>2019-03-23</td>\n",
       "      <td>6990200</td>\n",
       "      <td>(A002, R051, 02-00-00, 59 ST)</td>\n",
       "      <td>3847.0</td>\n",
       "      <td>2019-03-23 16:00:00</td>\n",
       "      <td>Saturday</td>\n",
       "      <td>276.0</td>\n",
       "      <td>40.641362</td>\n",
       "      <td>-74.017881</td>\n",
       "    </tr>\n",
       "  </tbody>\n",
       "</table>\n",
       "</div>"
      ],
      "text/plain": [
       "   STATION        DATE  ENTRIES                             ID  NEW_ID  \\\n",
       "0  59th St  2019-03-23  6989774  (A002, R051, 02-00-00, 59 ST)  3847.0   \n",
       "1  59th St  2019-03-23  6989795  (A002, R051, 02-00-00, 59 ST)  3847.0   \n",
       "2  59th St  2019-03-23  6989813  (A002, R051, 02-00-00, 59 ST)  3847.0   \n",
       "3  59th St  2019-03-23  6989924  (A002, R051, 02-00-00, 59 ST)  3847.0   \n",
       "4  59th St  2019-03-23  6990200  (A002, R051, 02-00-00, 59 ST)  3847.0   \n",
       "\n",
       "            DATE_TIME   WEEKDAY  ENTRY_COUNT  Station_Latitude  \\\n",
       "0 2019-03-23 00:00:00  Saturday          0.0         40.641362   \n",
       "1 2019-03-23 04:00:00  Saturday         21.0         40.641362   \n",
       "2 2019-03-23 08:00:00  Saturday         18.0         40.641362   \n",
       "3 2019-03-23 12:00:00  Saturday        111.0         40.641362   \n",
       "4 2019-03-23 16:00:00  Saturday        276.0         40.641362   \n",
       "\n",
       "   Station_Longitude  \n",
       "0         -74.017881  \n",
       "1         -74.017881  \n",
       "2         -74.017881  \n",
       "3         -74.017881  \n",
       "4         -74.017881  "
      ]
     },
     "execution_count": 131,
     "metadata": {},
     "output_type": "execute_result"
    }
   ],
   "source": [
    "df.head()"
   ]
  },
  {
   "cell_type": "code",
   "execution_count": 132,
   "metadata": {},
   "outputs": [],
   "source": [
    "df.to_csv('agg_station_data.csv', index=False)"
   ]
  },
  {
   "cell_type": "raw",
   "metadata": {},
   "source": [
    "# Clean up strange spaces in column names\n",
    "df.columns = df.columns.str.strip()\n",
    "df.columns"
   ]
  },
  {
   "cell_type": "code",
   "execution_count": 14,
   "metadata": {},
   "outputs": [],
   "source": [
    "# Create a tuples of columns 'C/A', 'UNIT', 'SCP', 'STATION'\n",
    "df['ID'] = pd.Series(zip(df['C/A'], df['UNIT'], df['SCP'], df['STATION']))"
   ]
  },
  {
   "cell_type": "code",
   "execution_count": 15,
   "metadata": {},
   "outputs": [],
   "source": [
    "# Replace IDs created above with itengers because processing tuples is really slow\n",
    "df['NEW_ID'] = simplify_id(df['ID'])"
   ]
  },
  {
   "cell_type": "code",
   "execution_count": 16,
   "metadata": {},
   "outputs": [
    {
     "data": {
      "text/html": [
       "<div>\n",
       "<style scoped>\n",
       "    .dataframe tbody tr th:only-of-type {\n",
       "        vertical-align: middle;\n",
       "    }\n",
       "\n",
       "    .dataframe tbody tr th {\n",
       "        vertical-align: top;\n",
       "    }\n",
       "\n",
       "    .dataframe thead th {\n",
       "        text-align: right;\n",
       "    }\n",
       "</style>\n",
       "<table border=\"1\" class=\"dataframe\">\n",
       "  <thead>\n",
       "    <tr style=\"text-align: right;\">\n",
       "      <th></th>\n",
       "      <th>C/A</th>\n",
       "      <th>UNIT</th>\n",
       "      <th>SCP</th>\n",
       "      <th>STATION</th>\n",
       "      <th>LINENAME</th>\n",
       "      <th>DIVISION</th>\n",
       "      <th>DATE</th>\n",
       "      <th>TIME</th>\n",
       "      <th>DESC</th>\n",
       "      <th>ENTRIES</th>\n",
       "      <th>EXITS</th>\n",
       "      <th>ID</th>\n",
       "      <th>NEW_ID</th>\n",
       "    </tr>\n",
       "  </thead>\n",
       "  <tbody>\n",
       "    <tr>\n",
       "      <td>0</td>\n",
       "      <td>A002</td>\n",
       "      <td>R051</td>\n",
       "      <td>02-00-00</td>\n",
       "      <td>59 ST</td>\n",
       "      <td>NQR456W</td>\n",
       "      <td>BMT</td>\n",
       "      <td>03/23/2019</td>\n",
       "      <td>00:00:00</td>\n",
       "      <td>REGULAR</td>\n",
       "      <td>6989774</td>\n",
       "      <td>2370411</td>\n",
       "      <td>(A002, R051, 02-00-00, 59 ST)</td>\n",
       "      <td>3847.0</td>\n",
       "    </tr>\n",
       "    <tr>\n",
       "      <td>1</td>\n",
       "      <td>A002</td>\n",
       "      <td>R051</td>\n",
       "      <td>02-00-00</td>\n",
       "      <td>59 ST</td>\n",
       "      <td>NQR456W</td>\n",
       "      <td>BMT</td>\n",
       "      <td>03/23/2019</td>\n",
       "      <td>04:00:00</td>\n",
       "      <td>REGULAR</td>\n",
       "      <td>6989795</td>\n",
       "      <td>2370413</td>\n",
       "      <td>(A002, R051, 02-00-00, 59 ST)</td>\n",
       "      <td>3847.0</td>\n",
       "    </tr>\n",
       "    <tr>\n",
       "      <td>2</td>\n",
       "      <td>A002</td>\n",
       "      <td>R051</td>\n",
       "      <td>02-00-00</td>\n",
       "      <td>59 ST</td>\n",
       "      <td>NQR456W</td>\n",
       "      <td>BMT</td>\n",
       "      <td>03/23/2019</td>\n",
       "      <td>08:00:00</td>\n",
       "      <td>REGULAR</td>\n",
       "      <td>6989813</td>\n",
       "      <td>2370436</td>\n",
       "      <td>(A002, R051, 02-00-00, 59 ST)</td>\n",
       "      <td>3847.0</td>\n",
       "    </tr>\n",
       "    <tr>\n",
       "      <td>3</td>\n",
       "      <td>A002</td>\n",
       "      <td>R051</td>\n",
       "      <td>02-00-00</td>\n",
       "      <td>59 ST</td>\n",
       "      <td>NQR456W</td>\n",
       "      <td>BMT</td>\n",
       "      <td>03/23/2019</td>\n",
       "      <td>12:00:00</td>\n",
       "      <td>REGULAR</td>\n",
       "      <td>6989924</td>\n",
       "      <td>2370512</td>\n",
       "      <td>(A002, R051, 02-00-00, 59 ST)</td>\n",
       "      <td>3847.0</td>\n",
       "    </tr>\n",
       "    <tr>\n",
       "      <td>4</td>\n",
       "      <td>A002</td>\n",
       "      <td>R051</td>\n",
       "      <td>02-00-00</td>\n",
       "      <td>59 ST</td>\n",
       "      <td>NQR456W</td>\n",
       "      <td>BMT</td>\n",
       "      <td>03/23/2019</td>\n",
       "      <td>16:00:00</td>\n",
       "      <td>REGULAR</td>\n",
       "      <td>6990200</td>\n",
       "      <td>2370573</td>\n",
       "      <td>(A002, R051, 02-00-00, 59 ST)</td>\n",
       "      <td>3847.0</td>\n",
       "    </tr>\n",
       "  </tbody>\n",
       "</table>\n",
       "</div>"
      ],
      "text/plain": [
       "    C/A  UNIT       SCP STATION LINENAME DIVISION        DATE      TIME  \\\n",
       "0  A002  R051  02-00-00   59 ST  NQR456W      BMT  03/23/2019  00:00:00   \n",
       "1  A002  R051  02-00-00   59 ST  NQR456W      BMT  03/23/2019  04:00:00   \n",
       "2  A002  R051  02-00-00   59 ST  NQR456W      BMT  03/23/2019  08:00:00   \n",
       "3  A002  R051  02-00-00   59 ST  NQR456W      BMT  03/23/2019  12:00:00   \n",
       "4  A002  R051  02-00-00   59 ST  NQR456W      BMT  03/23/2019  16:00:00   \n",
       "\n",
       "      DESC  ENTRIES    EXITS                             ID  NEW_ID  \n",
       "0  REGULAR  6989774  2370411  (A002, R051, 02-00-00, 59 ST)  3847.0  \n",
       "1  REGULAR  6989795  2370413  (A002, R051, 02-00-00, 59 ST)  3847.0  \n",
       "2  REGULAR  6989813  2370436  (A002, R051, 02-00-00, 59 ST)  3847.0  \n",
       "3  REGULAR  6989924  2370512  (A002, R051, 02-00-00, 59 ST)  3847.0  \n",
       "4  REGULAR  6990200  2370573  (A002, R051, 02-00-00, 59 ST)  3847.0  "
      ]
     },
     "execution_count": 16,
     "metadata": {},
     "output_type": "execute_result"
    }
   ],
   "source": [
    "df.head()"
   ]
  },
  {
   "cell_type": "code",
   "execution_count": 17,
   "metadata": {},
   "outputs": [
    {
     "name": "stdout",
     "output_type": "stream",
     "text": [
      "<class 'pandas.core.frame.DataFrame'>\n",
      "RangeIndex: 204595 entries, 0 to 204594\n",
      "Data columns (total 13 columns):\n",
      "C/A         204595 non-null object\n",
      "UNIT        204595 non-null object\n",
      "SCP         204595 non-null object\n",
      "STATION     204595 non-null object\n",
      "LINENAME    204595 non-null object\n",
      "DIVISION    204595 non-null object\n",
      "DATE        204595 non-null object\n",
      "TIME        204595 non-null object\n",
      "DESC        204595 non-null object\n",
      "ENTRIES     204595 non-null int64\n",
      "EXITS       204595 non-null int64\n",
      "ID          204595 non-null object\n",
      "NEW_ID      204595 non-null float64\n",
      "dtypes: float64(1), int64(2), object(10)\n",
      "memory usage: 20.3+ MB\n"
     ]
    }
   ],
   "source": [
    "df.info()"
   ]
  },
  {
   "cell_type": "code",
   "execution_count": 18,
   "metadata": {},
   "outputs": [],
   "source": [
    "# Filter out df['DESC'] == 'RECOVR AUD'. These entries create large jumps in entry counts\n",
    "df = df[df['DESC'] != 'RECOVR AUD']"
   ]
  },
  {
   "cell_type": "code",
   "execution_count": 19,
   "metadata": {},
   "outputs": [
    {
     "name": "stderr",
     "output_type": "stream",
     "text": [
      "/Applications/conda/anaconda3/envs/metis/lib/python3.7/site-packages/ipykernel_launcher.py:2: SettingWithCopyWarning: \n",
      "A value is trying to be set on a copy of a slice from a DataFrame.\n",
      "Try using .loc[row_indexer,col_indexer] = value instead\n",
      "\n",
      "See the caveats in the documentation: http://pandas.pydata.org/pandas-docs/stable/user_guide/indexing.html#returning-a-view-versus-a-copy\n",
      "  \n",
      "/Applications/conda/anaconda3/envs/metis/lib/python3.7/site-packages/ipykernel_launcher.py:3: SettingWithCopyWarning: \n",
      "A value is trying to be set on a copy of a slice from a DataFrame.\n",
      "Try using .loc[row_indexer,col_indexer] = value instead\n",
      "\n",
      "See the caveats in the documentation: http://pandas.pydata.org/pandas-docs/stable/user_guide/indexing.html#returning-a-view-versus-a-copy\n",
      "  This is separate from the ipykernel package so we can avoid doing imports until\n",
      "/Applications/conda/anaconda3/envs/metis/lib/python3.7/site-packages/ipykernel_launcher.py:4: SettingWithCopyWarning: \n",
      "A value is trying to be set on a copy of a slice from a DataFrame.\n",
      "Try using .loc[row_indexer,col_indexer] = value instead\n",
      "\n",
      "See the caveats in the documentation: http://pandas.pydata.org/pandas-docs/stable/user_guide/indexing.html#returning-a-view-versus-a-copy\n",
      "  after removing the cwd from sys.path.\n"
     ]
    }
   ],
   "source": [
    "# Add a weekday column\n",
    "df['DATE_TIME'] = df['DATE'] + ' ' + df['TIME']\n",
    "df['DATE_TIME'] = pd.to_datetime(df['DATE_TIME'])\n",
    "df['WEEKDAY'] = df['DATE_TIME'].dt.day_name()"
   ]
  },
  {
   "cell_type": "code",
   "execution_count": 20,
   "metadata": {},
   "outputs": [
    {
     "name": "stderr",
     "output_type": "stream",
     "text": [
      "/Applications/conda/anaconda3/envs/metis/lib/python3.7/site-packages/pandas/core/frame.py:4102: SettingWithCopyWarning: \n",
      "A value is trying to be set on a copy of a slice from a DataFrame\n",
      "\n",
      "See the caveats in the documentation: http://pandas.pydata.org/pandas-docs/stable/user_guide/indexing.html#returning-a-view-versus-a-copy\n",
      "  errors=errors,\n"
     ]
    }
   ],
   "source": [
    "# Drop unneeded columns\n",
    "df.drop(['LINENAME', 'DIVISION', 'DESC', 'C/A', 'UNIT', 'SCP', 'TIME', 'EXITS'], inplace=True, axis=1)"
   ]
  },
  {
   "cell_type": "code",
   "execution_count": 21,
   "metadata": {},
   "outputs": [
    {
     "data": {
      "text/html": [
       "<div>\n",
       "<style scoped>\n",
       "    .dataframe tbody tr th:only-of-type {\n",
       "        vertical-align: middle;\n",
       "    }\n",
       "\n",
       "    .dataframe tbody tr th {\n",
       "        vertical-align: top;\n",
       "    }\n",
       "\n",
       "    .dataframe thead th {\n",
       "        text-align: right;\n",
       "    }\n",
       "</style>\n",
       "<table border=\"1\" class=\"dataframe\">\n",
       "  <thead>\n",
       "    <tr style=\"text-align: right;\">\n",
       "      <th></th>\n",
       "      <th>STATION</th>\n",
       "      <th>DATE</th>\n",
       "      <th>ENTRIES</th>\n",
       "      <th>ID</th>\n",
       "      <th>NEW_ID</th>\n",
       "      <th>DATE_TIME</th>\n",
       "      <th>WEEKDAY</th>\n",
       "    </tr>\n",
       "  </thead>\n",
       "  <tbody>\n",
       "    <tr>\n",
       "      <td>0</td>\n",
       "      <td>59 ST</td>\n",
       "      <td>03/23/2019</td>\n",
       "      <td>6989774</td>\n",
       "      <td>(A002, R051, 02-00-00, 59 ST)</td>\n",
       "      <td>3847.0</td>\n",
       "      <td>2019-03-23 00:00:00</td>\n",
       "      <td>Saturday</td>\n",
       "    </tr>\n",
       "    <tr>\n",
       "      <td>1</td>\n",
       "      <td>59 ST</td>\n",
       "      <td>03/23/2019</td>\n",
       "      <td>6989795</td>\n",
       "      <td>(A002, R051, 02-00-00, 59 ST)</td>\n",
       "      <td>3847.0</td>\n",
       "      <td>2019-03-23 04:00:00</td>\n",
       "      <td>Saturday</td>\n",
       "    </tr>\n",
       "    <tr>\n",
       "      <td>2</td>\n",
       "      <td>59 ST</td>\n",
       "      <td>03/23/2019</td>\n",
       "      <td>6989813</td>\n",
       "      <td>(A002, R051, 02-00-00, 59 ST)</td>\n",
       "      <td>3847.0</td>\n",
       "      <td>2019-03-23 08:00:00</td>\n",
       "      <td>Saturday</td>\n",
       "    </tr>\n",
       "    <tr>\n",
       "      <td>3</td>\n",
       "      <td>59 ST</td>\n",
       "      <td>03/23/2019</td>\n",
       "      <td>6989924</td>\n",
       "      <td>(A002, R051, 02-00-00, 59 ST)</td>\n",
       "      <td>3847.0</td>\n",
       "      <td>2019-03-23 12:00:00</td>\n",
       "      <td>Saturday</td>\n",
       "    </tr>\n",
       "    <tr>\n",
       "      <td>4</td>\n",
       "      <td>59 ST</td>\n",
       "      <td>03/23/2019</td>\n",
       "      <td>6990200</td>\n",
       "      <td>(A002, R051, 02-00-00, 59 ST)</td>\n",
       "      <td>3847.0</td>\n",
       "      <td>2019-03-23 16:00:00</td>\n",
       "      <td>Saturday</td>\n",
       "    </tr>\n",
       "  </tbody>\n",
       "</table>\n",
       "</div>"
      ],
      "text/plain": [
       "  STATION        DATE  ENTRIES                             ID  NEW_ID  \\\n",
       "0   59 ST  03/23/2019  6989774  (A002, R051, 02-00-00, 59 ST)  3847.0   \n",
       "1   59 ST  03/23/2019  6989795  (A002, R051, 02-00-00, 59 ST)  3847.0   \n",
       "2   59 ST  03/23/2019  6989813  (A002, R051, 02-00-00, 59 ST)  3847.0   \n",
       "3   59 ST  03/23/2019  6989924  (A002, R051, 02-00-00, 59 ST)  3847.0   \n",
       "4   59 ST  03/23/2019  6990200  (A002, R051, 02-00-00, 59 ST)  3847.0   \n",
       "\n",
       "            DATE_TIME   WEEKDAY  \n",
       "0 2019-03-23 00:00:00  Saturday  \n",
       "1 2019-03-23 04:00:00  Saturday  \n",
       "2 2019-03-23 08:00:00  Saturday  \n",
       "3 2019-03-23 12:00:00  Saturday  \n",
       "4 2019-03-23 16:00:00  Saturday  "
      ]
     },
     "execution_count": 21,
     "metadata": {},
     "output_type": "execute_result"
    }
   ],
   "source": [
    "# Limit to one station for simplicity\n",
    "# df = df[df['STATION'] == '59 ST']\n",
    "df.head()"
   ]
  },
  {
   "cell_type": "code",
   "execution_count": 22,
   "metadata": {},
   "outputs": [],
   "source": [
    "# cache the number of rows for a future sanity check\n",
    "rows_in_orig = df.shape[0]"
   ]
  },
  {
   "cell_type": "code",
   "execution_count": 23,
   "metadata": {},
   "outputs": [],
   "source": [
    "# Create a disctiondary of dataframes for each turnstile id for entry count processing\n",
    "dict_of_ids = {id : df[df['NEW_ID'] == id] for id in df['NEW_ID'].unique()}"
   ]
  },
  {
   "cell_type": "code",
   "execution_count": 25,
   "metadata": {},
   "outputs": [
    {
     "data": {
      "text/html": [
       "<div>\n",
       "<style scoped>\n",
       "    .dataframe tbody tr th:only-of-type {\n",
       "        vertical-align: middle;\n",
       "    }\n",
       "\n",
       "    .dataframe tbody tr th {\n",
       "        vertical-align: top;\n",
       "    }\n",
       "\n",
       "    .dataframe thead th {\n",
       "        text-align: right;\n",
       "    }\n",
       "</style>\n",
       "<table border=\"1\" class=\"dataframe\">\n",
       "  <thead>\n",
       "    <tr style=\"text-align: right;\">\n",
       "      <th></th>\n",
       "      <th>STATION</th>\n",
       "      <th>DATE</th>\n",
       "      <th>ENTRIES</th>\n",
       "      <th>ID</th>\n",
       "      <th>NEW_ID</th>\n",
       "      <th>DATE_TIME</th>\n",
       "      <th>WEEKDAY</th>\n",
       "    </tr>\n",
       "  </thead>\n",
       "  <tbody>\n",
       "    <tr>\n",
       "      <td>0</td>\n",
       "      <td>59 ST</td>\n",
       "      <td>03/23/2019</td>\n",
       "      <td>6989774</td>\n",
       "      <td>(A002, R051, 02-00-00, 59 ST)</td>\n",
       "      <td>3847.0</td>\n",
       "      <td>2019-03-23 00:00:00</td>\n",
       "      <td>Saturday</td>\n",
       "    </tr>\n",
       "    <tr>\n",
       "      <td>1</td>\n",
       "      <td>59 ST</td>\n",
       "      <td>03/23/2019</td>\n",
       "      <td>6989795</td>\n",
       "      <td>(A002, R051, 02-00-00, 59 ST)</td>\n",
       "      <td>3847.0</td>\n",
       "      <td>2019-03-23 04:00:00</td>\n",
       "      <td>Saturday</td>\n",
       "    </tr>\n",
       "    <tr>\n",
       "      <td>2</td>\n",
       "      <td>59 ST</td>\n",
       "      <td>03/23/2019</td>\n",
       "      <td>6989813</td>\n",
       "      <td>(A002, R051, 02-00-00, 59 ST)</td>\n",
       "      <td>3847.0</td>\n",
       "      <td>2019-03-23 08:00:00</td>\n",
       "      <td>Saturday</td>\n",
       "    </tr>\n",
       "    <tr>\n",
       "      <td>3</td>\n",
       "      <td>59 ST</td>\n",
       "      <td>03/23/2019</td>\n",
       "      <td>6989924</td>\n",
       "      <td>(A002, R051, 02-00-00, 59 ST)</td>\n",
       "      <td>3847.0</td>\n",
       "      <td>2019-03-23 12:00:00</td>\n",
       "      <td>Saturday</td>\n",
       "    </tr>\n",
       "    <tr>\n",
       "      <td>4</td>\n",
       "      <td>59 ST</td>\n",
       "      <td>03/23/2019</td>\n",
       "      <td>6990200</td>\n",
       "      <td>(A002, R051, 02-00-00, 59 ST)</td>\n",
       "      <td>3847.0</td>\n",
       "      <td>2019-03-23 16:00:00</td>\n",
       "      <td>Saturday</td>\n",
       "    </tr>\n",
       "  </tbody>\n",
       "</table>\n",
       "</div>"
      ],
      "text/plain": [
       "  STATION        DATE  ENTRIES                             ID  NEW_ID  \\\n",
       "0   59 ST  03/23/2019  6989774  (A002, R051, 02-00-00, 59 ST)  3847.0   \n",
       "1   59 ST  03/23/2019  6989795  (A002, R051, 02-00-00, 59 ST)  3847.0   \n",
       "2   59 ST  03/23/2019  6989813  (A002, R051, 02-00-00, 59 ST)  3847.0   \n",
       "3   59 ST  03/23/2019  6989924  (A002, R051, 02-00-00, 59 ST)  3847.0   \n",
       "4   59 ST  03/23/2019  6990200  (A002, R051, 02-00-00, 59 ST)  3847.0   \n",
       "\n",
       "            DATE_TIME   WEEKDAY  \n",
       "0 2019-03-23 00:00:00  Saturday  \n",
       "1 2019-03-23 04:00:00  Saturday  \n",
       "2 2019-03-23 08:00:00  Saturday  \n",
       "3 2019-03-23 12:00:00  Saturday  \n",
       "4 2019-03-23 16:00:00  Saturday  "
      ]
     },
     "execution_count": 25,
     "metadata": {},
     "output_type": "execute_result"
    }
   ],
   "source": [
    "# Sanity check to be sure things worked\n",
    "dict_of_ids[3847.0].head()"
   ]
  },
  {
   "cell_type": "code",
   "execution_count": 26,
   "metadata": {},
   "outputs": [
    {
     "name": "stderr",
     "output_type": "stream",
     "text": [
      "/Applications/conda/anaconda3/envs/metis/lib/python3.7/site-packages/ipykernel_launcher.py:2: SettingWithCopyWarning: \n",
      "A value is trying to be set on a copy of a slice from a DataFrame.\n",
      "Try using .loc[row_indexer,col_indexer] = value instead\n",
      "\n",
      "See the caveats in the documentation: http://pandas.pydata.org/pandas-docs/stable/user_guide/indexing.html#returning-a-view-versus-a-copy\n",
      "  \n",
      "/Applications/conda/anaconda3/envs/metis/lib/python3.7/site-packages/pandas/core/generic.py:6287: SettingWithCopyWarning: \n",
      "A value is trying to be set on a copy of a slice from a DataFrame\n",
      "\n",
      "See the caveats in the documentation: http://pandas.pydata.org/pandas-docs/stable/user_guide/indexing.html#returning-a-view-versus-a-copy\n",
      "  self._update_inplace(new_data)\n"
     ]
    }
   ],
   "source": [
    "# Create Entry counts based on subtracting a an entry count from the entry count in the next row.\n",
    "for key, frame in dict_of_ids.items():\n",
    "    dict_of_ids[key]['ENTRY_COUNT'] = abs(frame['ENTRIES'] - frame['ENTRIES'].shift(1))\n",
    "    dict_of_ids[key]['ENTRY_COUNT'].fillna(0, inplace=True)"
   ]
  },
  {
   "cell_type": "code",
   "execution_count": 27,
   "metadata": {},
   "outputs": [],
   "source": [
    "# Recombine the dataframe from the dictionary of dataframes, now with entry counts\n",
    "df = pd.concat(dict_of_ids.values())"
   ]
  },
  {
   "cell_type": "code",
   "execution_count": 28,
   "metadata": {},
   "outputs": [],
   "source": [
    "# Check the number of rows to be sure we didn't gain or lose anything\n",
    "assert(df.shape[0] == rows_in_orig)"
   ]
  },
  {
   "cell_type": "code",
   "execution_count": 29,
   "metadata": {},
   "outputs": [
    {
     "data": {
      "text/plain": [
       "(203876, 8)"
      ]
     },
     "execution_count": 29,
     "metadata": {},
     "output_type": "execute_result"
    }
   ],
   "source": [
    "df.shape"
   ]
  },
  {
   "cell_type": "code",
   "execution_count": 30,
   "metadata": {},
   "outputs": [],
   "source": [
    "# Filter out counts larger than 300 because they are almost always turnstile resets.\n",
    "df = df[df['ENTRY_COUNT'] < 3000]"
   ]
  },
  {
   "cell_type": "code",
   "execution_count": 31,
   "metadata": {},
   "outputs": [],
   "source": [
    "# Create a DATE column from the DATE_TIME timestamp.\n",
    "df['DATE'] = df['DATE_TIME'].dt.date"
   ]
  },
  {
   "cell_type": "code",
   "execution_count": 32,
   "metadata": {},
   "outputs": [
    {
     "data": {
      "text/html": [
       "<div>\n",
       "<style scoped>\n",
       "    .dataframe tbody tr th:only-of-type {\n",
       "        vertical-align: middle;\n",
       "    }\n",
       "\n",
       "    .dataframe tbody tr th {\n",
       "        vertical-align: top;\n",
       "    }\n",
       "\n",
       "    .dataframe thead th {\n",
       "        text-align: right;\n",
       "    }\n",
       "</style>\n",
       "<table border=\"1\" class=\"dataframe\">\n",
       "  <thead>\n",
       "    <tr style=\"text-align: right;\">\n",
       "      <th></th>\n",
       "      <th>STATION</th>\n",
       "      <th>DATE</th>\n",
       "      <th>ENTRIES</th>\n",
       "      <th>ID</th>\n",
       "      <th>NEW_ID</th>\n",
       "      <th>DATE_TIME</th>\n",
       "      <th>WEEKDAY</th>\n",
       "      <th>ENTRY_COUNT</th>\n",
       "    </tr>\n",
       "  </thead>\n",
       "  <tbody>\n",
       "    <tr>\n",
       "      <td>0</td>\n",
       "      <td>59 ST</td>\n",
       "      <td>2019-03-23</td>\n",
       "      <td>6989774</td>\n",
       "      <td>(A002, R051, 02-00-00, 59 ST)</td>\n",
       "      <td>3847.0</td>\n",
       "      <td>2019-03-23 00:00:00</td>\n",
       "      <td>Saturday</td>\n",
       "      <td>0.0</td>\n",
       "    </tr>\n",
       "    <tr>\n",
       "      <td>1</td>\n",
       "      <td>59 ST</td>\n",
       "      <td>2019-03-23</td>\n",
       "      <td>6989795</td>\n",
       "      <td>(A002, R051, 02-00-00, 59 ST)</td>\n",
       "      <td>3847.0</td>\n",
       "      <td>2019-03-23 04:00:00</td>\n",
       "      <td>Saturday</td>\n",
       "      <td>21.0</td>\n",
       "    </tr>\n",
       "    <tr>\n",
       "      <td>2</td>\n",
       "      <td>59 ST</td>\n",
       "      <td>2019-03-23</td>\n",
       "      <td>6989813</td>\n",
       "      <td>(A002, R051, 02-00-00, 59 ST)</td>\n",
       "      <td>3847.0</td>\n",
       "      <td>2019-03-23 08:00:00</td>\n",
       "      <td>Saturday</td>\n",
       "      <td>18.0</td>\n",
       "    </tr>\n",
       "    <tr>\n",
       "      <td>3</td>\n",
       "      <td>59 ST</td>\n",
       "      <td>2019-03-23</td>\n",
       "      <td>6989924</td>\n",
       "      <td>(A002, R051, 02-00-00, 59 ST)</td>\n",
       "      <td>3847.0</td>\n",
       "      <td>2019-03-23 12:00:00</td>\n",
       "      <td>Saturday</td>\n",
       "      <td>111.0</td>\n",
       "    </tr>\n",
       "    <tr>\n",
       "      <td>4</td>\n",
       "      <td>59 ST</td>\n",
       "      <td>2019-03-23</td>\n",
       "      <td>6990200</td>\n",
       "      <td>(A002, R051, 02-00-00, 59 ST)</td>\n",
       "      <td>3847.0</td>\n",
       "      <td>2019-03-23 16:00:00</td>\n",
       "      <td>Saturday</td>\n",
       "      <td>276.0</td>\n",
       "    </tr>\n",
       "  </tbody>\n",
       "</table>\n",
       "</div>"
      ],
      "text/plain": [
       "  STATION        DATE  ENTRIES                             ID  NEW_ID  \\\n",
       "0   59 ST  2019-03-23  6989774  (A002, R051, 02-00-00, 59 ST)  3847.0   \n",
       "1   59 ST  2019-03-23  6989795  (A002, R051, 02-00-00, 59 ST)  3847.0   \n",
       "2   59 ST  2019-03-23  6989813  (A002, R051, 02-00-00, 59 ST)  3847.0   \n",
       "3   59 ST  2019-03-23  6989924  (A002, R051, 02-00-00, 59 ST)  3847.0   \n",
       "4   59 ST  2019-03-23  6990200  (A002, R051, 02-00-00, 59 ST)  3847.0   \n",
       "\n",
       "            DATE_TIME   WEEKDAY  ENTRY_COUNT  \n",
       "0 2019-03-23 00:00:00  Saturday          0.0  \n",
       "1 2019-03-23 04:00:00  Saturday         21.0  \n",
       "2 2019-03-23 08:00:00  Saturday         18.0  \n",
       "3 2019-03-23 12:00:00  Saturday        111.0  \n",
       "4 2019-03-23 16:00:00  Saturday        276.0  "
      ]
     },
     "execution_count": 32,
     "metadata": {},
     "output_type": "execute_result"
    }
   ],
   "source": [
    "df.head()"
   ]
  },
  {
   "cell_type": "code",
   "execution_count": null,
   "metadata": {},
   "outputs": [],
   "source": []
  },
  {
   "cell_type": "code",
   "execution_count": 44,
   "metadata": {},
   "outputs": [],
   "source": [
    "# Sum up entry counts by date and weekday. This is a little redundant, but the WEEKDAY\n",
    "# column is needed for later processing.\n",
    "gp_date_weekday = df.groupby(['STATION', 'DATE', 'WEEKDAY'], as_index=False).sum()"
   ]
  },
  {
   "cell_type": "code",
   "execution_count": 47,
   "metadata": {},
   "outputs": [
    {
     "data": {
      "text/html": [
       "<div>\n",
       "<style scoped>\n",
       "    .dataframe tbody tr th:only-of-type {\n",
       "        vertical-align: middle;\n",
       "    }\n",
       "\n",
       "    .dataframe tbody tr th {\n",
       "        vertical-align: top;\n",
       "    }\n",
       "\n",
       "    .dataframe thead th {\n",
       "        text-align: right;\n",
       "    }\n",
       "</style>\n",
       "<table border=\"1\" class=\"dataframe\">\n",
       "  <thead>\n",
       "    <tr style=\"text-align: right;\">\n",
       "      <th></th>\n",
       "      <th>STATION</th>\n",
       "      <th>DATE</th>\n",
       "      <th>WEEKDAY</th>\n",
       "      <th>ENTRIES</th>\n",
       "      <th>NEW_ID</th>\n",
       "      <th>ENTRY_COUNT</th>\n",
       "    </tr>\n",
       "  </thead>\n",
       "  <tbody>\n",
       "    <tr>\n",
       "      <td>0</td>\n",
       "      <td>1 AV</td>\n",
       "      <td>2019-03-23</td>\n",
       "      <td>Saturday</td>\n",
       "      <td>8476143515</td>\n",
       "      <td>147132.0</td>\n",
       "      <td>9810.0</td>\n",
       "    </tr>\n",
       "    <tr>\n",
       "      <td>1</td>\n",
       "      <td>1 AV</td>\n",
       "      <td>2019-03-24</td>\n",
       "      <td>Sunday</td>\n",
       "      <td>8476218409</td>\n",
       "      <td>147132.0</td>\n",
       "      <td>11413.0</td>\n",
       "    </tr>\n",
       "    <tr>\n",
       "      <td>2</td>\n",
       "      <td>1 AV</td>\n",
       "      <td>2019-03-25</td>\n",
       "      <td>Monday</td>\n",
       "      <td>8022381943</td>\n",
       "      <td>135052.0</td>\n",
       "      <td>18759.0</td>\n",
       "    </tr>\n",
       "    <tr>\n",
       "      <td>3</td>\n",
       "      <td>1 AV</td>\n",
       "      <td>2019-03-26</td>\n",
       "      <td>Tuesday</td>\n",
       "      <td>8476413906</td>\n",
       "      <td>147132.0</td>\n",
       "      <td>19013.0</td>\n",
       "    </tr>\n",
       "    <tr>\n",
       "      <td>4</td>\n",
       "      <td>1 AV</td>\n",
       "      <td>2019-03-27</td>\n",
       "      <td>Wednesday</td>\n",
       "      <td>7517718898</td>\n",
       "      <td>134690.0</td>\n",
       "      <td>20302.0</td>\n",
       "    </tr>\n",
       "  </tbody>\n",
       "</table>\n",
       "</div>"
      ],
      "text/plain": [
       "  STATION        DATE    WEEKDAY     ENTRIES    NEW_ID  ENTRY_COUNT\n",
       "0    1 AV  2019-03-23   Saturday  8476143515  147132.0       9810.0\n",
       "1    1 AV  2019-03-24     Sunday  8476218409  147132.0      11413.0\n",
       "2    1 AV  2019-03-25     Monday  8022381943  135052.0      18759.0\n",
       "3    1 AV  2019-03-26    Tuesday  8476413906  147132.0      19013.0\n",
       "4    1 AV  2019-03-27  Wednesday  7517718898  134690.0      20302.0"
      ]
     },
     "execution_count": 47,
     "metadata": {},
     "output_type": "execute_result"
    }
   ],
   "source": [
    "gp_date_weekday.head()"
   ]
  },
  {
   "cell_type": "code",
   "execution_count": 48,
   "metadata": {},
   "outputs": [],
   "source": [
    "# Calculate the mean number of entries for each station.\n",
    "daily_mean_by_station = gp_date_weekday.groupby('STATION', as_index=False).mean()"
   ]
  },
  {
   "cell_type": "code",
   "execution_count": 49,
   "metadata": {},
   "outputs": [],
   "source": [
    "# Round off the mean values as they have a crazy number of decimal places.\n",
    "daily_mean_by_station['ENTRY_COUNT'] = daily_mean_by_station['ENTRY_COUNT'].round(0)\n",
    "# daily_mean_by_station.sort_values('ENTRY_COUNT', ascending=False, inplace=True)"
   ]
  },
  {
   "cell_type": "code",
   "execution_count": 80,
   "metadata": {},
   "outputs": [],
   "source": [
    "# Create a new dataframe of the file largest stations by entry count\n",
    "five_largest = daily_mean_by_station.nlargest(5, 'ENTRY_COUNT').sort_values('ENTRY_COUNT', ascending=False)\n",
    "station = five_largest.STATION\n",
    "entry_counts = five_largest.ENTRY_COUNT\n",
    "five_largest.to_csv('five_largest_stations.csv')"
   ]
  },
  {
   "cell_type": "code",
   "execution_count": 81,
   "metadata": {},
   "outputs": [],
   "source": [
    "# Create a reversed index so that stations display in descending order in the bar graph\n",
    "new_index = list(reversed(station.index))"
   ]
  },
  {
   "cell_type": "code",
   "execution_count": 82,
   "metadata": {},
   "outputs": [
    {
     "data": {
      "image/png": "[encoded data removed]",
      "text/plain": [
       "<Figure size 432x288 with 1 Axes>"
      ]
     },
     "metadata": {
      "needs_background": "light"
     },
     "output_type": "display_data"
    }
   ],
   "source": [
    "# Plot the bar chart of the top 5 stations\n",
    "plt.barh(station[new_index], entry_counts[new_index]);"
   ]
  },
  {
   "cell_type": "code",
   "execution_count": 87,
   "metadata": {},
   "outputs": [
    {
     "data": {
      "text/plain": [
       "61      34 ST-PENN STA\n",
       "232    GRD CNTRL-42 ST\n",
       "59     34 ST-HERALD SQ\n",
       "46               23 ST\n",
       "14      14 ST-UNION SQ\n",
       "68     42 ST-PORT AUTH\n",
       "351     TIMES SQ-42 ST\n",
       "225          FULTON ST\n",
       "110              86 ST\n",
       "9               125 ST\n",
       "Name: STATION, dtype: object"
      ]
     },
     "execution_count": 87,
     "metadata": {},
     "output_type": "execute_result"
    }
   ],
   "source": [
    "# Create a series of the top ten stations\n",
    "top_ten_stations = daily_mean_by_station.nlargest(10, 'ENTRY_COUNT').STATION\n",
    "top_ten_stations"
   ]
  },
  {
   "cell_type": "code",
   "execution_count": 111,
   "metadata": {},
   "outputs": [
    {
     "data": {
      "text/html": [
       "<div>\n",
       "<style scoped>\n",
       "    .dataframe tbody tr th:only-of-type {\n",
       "        vertical-align: middle;\n",
       "    }\n",
       "\n",
       "    .dataframe tbody tr th {\n",
       "        vertical-align: top;\n",
       "    }\n",
       "\n",
       "    .dataframe thead th {\n",
       "        text-align: right;\n",
       "    }\n",
       "</style>\n",
       "<table border=\"1\" class=\"dataframe\">\n",
       "  <thead>\n",
       "    <tr style=\"text-align: right;\">\n",
       "      <th></th>\n",
       "      <th>STATION</th>\n",
       "      <th>WEEKDAY</th>\n",
       "      <th>ENTRY_COUNT</th>\n",
       "    </tr>\n",
       "  </thead>\n",
       "  <tbody>\n",
       "    <tr>\n",
       "      <td>0</td>\n",
       "      <td>125 ST</td>\n",
       "      <td>Friday</td>\n",
       "      <td>82959.0</td>\n",
       "    </tr>\n",
       "    <tr>\n",
       "      <td>1</td>\n",
       "      <td>125 ST</td>\n",
       "      <td>Monday</td>\n",
       "      <td>77994.0</td>\n",
       "    </tr>\n",
       "    <tr>\n",
       "      <td>2</td>\n",
       "      <td>125 ST</td>\n",
       "      <td>Saturday</td>\n",
       "      <td>43591.0</td>\n",
       "    </tr>\n",
       "    <tr>\n",
       "      <td>3</td>\n",
       "      <td>125 ST</td>\n",
       "      <td>Sunday</td>\n",
       "      <td>43607.0</td>\n",
       "    </tr>\n",
       "    <tr>\n",
       "      <td>4</td>\n",
       "      <td>125 ST</td>\n",
       "      <td>Thursday</td>\n",
       "      <td>84529.0</td>\n",
       "    </tr>\n",
       "  </tbody>\n",
       "</table>\n",
       "</div>"
      ],
      "text/plain": [
       "  STATION   WEEKDAY  ENTRY_COUNT\n",
       "0  125 ST    Friday      82959.0\n",
       "1  125 ST    Monday      77994.0\n",
       "2  125 ST  Saturday      43591.0\n",
       "3  125 ST    Sunday      43607.0\n",
       "4  125 ST  Thursday      84529.0"
      ]
     },
     "execution_count": 111,
     "metadata": {},
     "output_type": "execute_result"
    }
   ],
   "source": [
    "top_ten_df = gp_date_weekday[gp_date_weekday['STATION'].isin(top_ten_stations)]\n",
    "gp_top_ten_weekday = top_ten_df.groupby(['STATION', 'WEEKDAY'], as_index=False).mean()\n",
    "gp_top_ten_weekday.drop(['ENTRIES', 'NEW_ID'], axis=1, inplace=True)\n",
    "gp_top_ten_weekday.head()"
   ]
  },
  {
   "cell_type": "code",
   "execution_count": 112,
   "metadata": {},
   "outputs": [
    {
     "data": {
      "text/plain": [
       "[<matplotlib.lines.Line2D at 0x12bec7490>]"
      ]
     },
     "execution_count": 112,
     "metadata": {},
     "output_type": "execute_result"
    },
    {
     "data": {
      "image/png": "[encoded data removed]",
      "text/plain": [
       "<Figure size 432x288 with 1 Axes>"
      ]
     },
     "metadata": {
      "needs_background": "light"
     },
     "output_type": "display_data"
    }
   ],
   "source": [
    "first = gp_top_ten_weekday[gp_top_ten_weekday['STATION'] == '125 ST']\n",
    "wdindex = [1, 5, 6, 4, 0, 2, 3]\n",
    "plt.plot(first['WEEKDAY'][wdindex], first['ENTRY_COUNT'][wdindex])"
   ]
  },
  {
   "cell_type": "code",
   "execution_count": 113,
   "metadata": {},
   "outputs": [
    {
     "data": {
      "image/png": "[encoded data removed]",
      "text/plain": [
       "<Figure size 432x288 with 1 Axes>"
      ]
     },
     "metadata": {
      "needs_background": "light"
     },
     "output_type": "display_data"
    }
   ],
   "source": [
    "test = gp_top_ten_weekday.copy()\n",
    "test.set_index('WEEKDAY', inplace=True)\n",
    "wd_idx = ['Monday', 'Tuesday', 'Wednesday', 'Thursday', 'Friday', 'Saturday', 'Sunday']\n",
    "gp_top_ten_weekday = test.copy()\n",
    "for station in gp_top_ten_weekday.STATION.unique():\n",
    "    tmp_df = gp_top_ten_weekday[gp_top_ten_weekday['STATION'] == station]\n",
    "    plt.plot(tmp_df['ENTRY_COUNT'][wd_idx])"
   ]
  },
  {
   "cell_type": "code",
   "execution_count": 114,
   "metadata": {},
   "outputs": [
    {
     "data": {
      "text/html": [
       "<div>\n",
       "<style scoped>\n",
       "    .dataframe tbody tr th:only-of-type {\n",
       "        vertical-align: middle;\n",
       "    }\n",
       "\n",
       "    .dataframe tbody tr th {\n",
       "        vertical-align: top;\n",
       "    }\n",
       "\n",
       "    .dataframe thead th {\n",
       "        text-align: right;\n",
       "    }\n",
       "</style>\n",
       "<table border=\"1\" class=\"dataframe\">\n",
       "  <thead>\n",
       "    <tr style=\"text-align: right;\">\n",
       "      <th></th>\n",
       "      <th>STATION</th>\n",
       "      <th>ENTRY_COUNT</th>\n",
       "    </tr>\n",
       "    <tr>\n",
       "      <th>WEEKDAY</th>\n",
       "      <th></th>\n",
       "      <th></th>\n",
       "    </tr>\n",
       "  </thead>\n",
       "  <tbody>\n",
       "    <tr>\n",
       "      <td>Friday</td>\n",
       "      <td>125 ST</td>\n",
       "      <td>82959.0</td>\n",
       "    </tr>\n",
       "    <tr>\n",
       "      <td>Monday</td>\n",
       "      <td>125 ST</td>\n",
       "      <td>77994.0</td>\n",
       "    </tr>\n",
       "    <tr>\n",
       "      <td>Saturday</td>\n",
       "      <td>125 ST</td>\n",
       "      <td>43591.0</td>\n",
       "    </tr>\n",
       "    <tr>\n",
       "      <td>Sunday</td>\n",
       "      <td>125 ST</td>\n",
       "      <td>43607.0</td>\n",
       "    </tr>\n",
       "    <tr>\n",
       "      <td>Thursday</td>\n",
       "      <td>125 ST</td>\n",
       "      <td>84529.0</td>\n",
       "    </tr>\n",
       "    <tr>\n",
       "      <td>Tuesday</td>\n",
       "      <td>125 ST</td>\n",
       "      <td>81995.0</td>\n",
       "    </tr>\n",
       "    <tr>\n",
       "      <td>Wednesday</td>\n",
       "      <td>125 ST</td>\n",
       "      <td>82937.0</td>\n",
       "    </tr>\n",
       "    <tr>\n",
       "      <td>Friday</td>\n",
       "      <td>14 ST-UNION SQ</td>\n",
       "      <td>105916.0</td>\n",
       "    </tr>\n",
       "    <tr>\n",
       "      <td>Monday</td>\n",
       "      <td>14 ST-UNION SQ</td>\n",
       "      <td>94179.0</td>\n",
       "    </tr>\n",
       "    <tr>\n",
       "      <td>Saturday</td>\n",
       "      <td>14 ST-UNION SQ</td>\n",
       "      <td>55534.0</td>\n",
       "    </tr>\n",
       "    <tr>\n",
       "      <td>Sunday</td>\n",
       "      <td>14 ST-UNION SQ</td>\n",
       "      <td>58235.0</td>\n",
       "    </tr>\n",
       "    <tr>\n",
       "      <td>Thursday</td>\n",
       "      <td>14 ST-UNION SQ</td>\n",
       "      <td>105459.0</td>\n",
       "    </tr>\n",
       "    <tr>\n",
       "      <td>Tuesday</td>\n",
       "      <td>14 ST-UNION SQ</td>\n",
       "      <td>104079.0</td>\n",
       "    </tr>\n",
       "    <tr>\n",
       "      <td>Wednesday</td>\n",
       "      <td>14 ST-UNION SQ</td>\n",
       "      <td>107709.0</td>\n",
       "    </tr>\n",
       "    <tr>\n",
       "      <td>Friday</td>\n",
       "      <td>23 ST</td>\n",
       "      <td>118270.0</td>\n",
       "    </tr>\n",
       "    <tr>\n",
       "      <td>Monday</td>\n",
       "      <td>23 ST</td>\n",
       "      <td>110229.0</td>\n",
       "    </tr>\n",
       "    <tr>\n",
       "      <td>Saturday</td>\n",
       "      <td>23 ST</td>\n",
       "      <td>44052.0</td>\n",
       "    </tr>\n",
       "    <tr>\n",
       "      <td>Sunday</td>\n",
       "      <td>23 ST</td>\n",
       "      <td>41444.0</td>\n",
       "    </tr>\n",
       "    <tr>\n",
       "      <td>Thursday</td>\n",
       "      <td>23 ST</td>\n",
       "      <td>128138.0</td>\n",
       "    </tr>\n",
       "    <tr>\n",
       "      <td>Tuesday</td>\n",
       "      <td>23 ST</td>\n",
       "      <td>125624.0</td>\n",
       "    </tr>\n",
       "  </tbody>\n",
       "</table>\n",
       "</div>"
      ],
      "text/plain": [
       "                  STATION  ENTRY_COUNT\n",
       "WEEKDAY                               \n",
       "Friday             125 ST      82959.0\n",
       "Monday             125 ST      77994.0\n",
       "Saturday           125 ST      43591.0\n",
       "Sunday             125 ST      43607.0\n",
       "Thursday           125 ST      84529.0\n",
       "Tuesday            125 ST      81995.0\n",
       "Wednesday          125 ST      82937.0\n",
       "Friday     14 ST-UNION SQ     105916.0\n",
       "Monday     14 ST-UNION SQ      94179.0\n",
       "Saturday   14 ST-UNION SQ      55534.0\n",
       "Sunday     14 ST-UNION SQ      58235.0\n",
       "Thursday   14 ST-UNION SQ     105459.0\n",
       "Tuesday    14 ST-UNION SQ     104079.0\n",
       "Wednesday  14 ST-UNION SQ     107709.0\n",
       "Friday              23 ST     118270.0\n",
       "Monday              23 ST     110229.0\n",
       "Saturday            23 ST      44052.0\n",
       "Sunday              23 ST      41444.0\n",
       "Thursday            23 ST     128138.0\n",
       "Tuesday             23 ST     125624.0"
      ]
     },
     "execution_count": 114,
     "metadata": {},
     "output_type": "execute_result"
    }
   ],
   "source": [
    "gp_top_ten_weekday.head(20)"
   ]
  },
  {
   "cell_type": "markdown",
   "metadata": {},
   "source": [
    "***"
   ]
  },
  {
   "cell_type": "code",
   "execution_count": 28,
   "metadata": {},
   "outputs": [],
   "source": [
    "pickle.dump(df, open( \"NYC_TS_DF.pickle\", \"wb\" ) )"
   ]
  },
  {
   "cell_type": "code",
   "execution_count": 105,
   "metadata": {},
   "outputs": [
    {
     "data": {
      "text/plain": [
       "array(['125 ST', '14 ST-UNION SQ', '23 ST', '34 ST-HERALD SQ',\n",
       "       '34 ST-PENN STA', '42 ST-PORT AUTH', '86 ST', 'FULTON ST',\n",
       "       'GRD CNTRL-42 ST', 'TIMES SQ-42 ST'], dtype=object)"
      ]
     },
     "execution_count": 105,
     "metadata": {},
     "output_type": "execute_result"
    }
   ],
   "source": [
    "gp_top_ten_weekday.STATION.unique()"
   ]
  },
  {
   "cell_type": "code",
   "execution_count": null,
   "metadata": {},
   "outputs": [],
   "source": []
  },
  {
   "cell_type": "code",
   "execution_count": null,
   "metadata": {},
   "outputs": [],
   "source": [
    "len(df.STATION.unique())"
   ]
  },
  {
   "cell_type": "code",
   "execution_count": null,
   "metadata": {},
   "outputs": [],
   "source": [
    "df['ENTRY_COUNTS'] = count_entries(df)"
   ]
  },
  {
   "cell_type": "code",
   "execution_count": null,
   "metadata": {},
   "outputs": [],
   "source": [
    "df['PCT_RANK'] = (df['ENTRY_COUNTS'].rank(pct=True) * 100).round(0)"
   ]
  },
  {
   "cell_type": "code",
   "execution_count": null,
   "metadata": {},
   "outputs": [],
   "source": [
    "df.head()"
   ]
  },
  {
   "cell_type": "code",
   "execution_count": null,
   "metadata": {},
   "outputs": [],
   "source": [
    "df[df['PCT_RANK'] == 99].shape"
   ]
  },
  {
   "cell_type": "code",
   "execution_count": null,
   "metadata": {},
   "outputs": [],
   "source": [
    "# Filter out ENTRY_COUNTS greater than 3000 because these are usually counter resets\n",
    "df = df[df['ENTRY_COUNTS'] < 3000]"
   ]
  },
  {
   "cell_type": "code",
   "execution_count": null,
   "metadata": {},
   "outputs": [],
   "source": [
    "df[df['ENTRY_COUNTS'] < 0]"
   ]
  },
  {
   "cell_type": "code",
   "execution_count": null,
   "metadata": {},
   "outputs": [],
   "source": [
    "print(df['ENTRY_COUNTS'].min(), df['ENTRY_COUNTS'].max()) "
   ]
  },
  {
   "cell_type": "code",
   "execution_count": null,
   "metadata": {},
   "outputs": [],
   "source": [
    "df['AM/PM'] = am_pm(df['DATE_TIME'])"
   ]
  },
  {
   "cell_type": "code",
   "execution_count": null,
   "metadata": {},
   "outputs": [],
   "source": [
    "df.head()"
   ]
  },
  {
   "cell_type": "code",
   "execution_count": null,
   "metadata": {},
   "outputs": [],
   "source": [
    "gp = df.groupby(['STATION', 'WEEKDAY', 'AM/PM'], as_index=False).sum()"
   ]
  },
  {
   "cell_type": "code",
   "execution_count": null,
   "metadata": {},
   "outputs": [],
   "source": [
    "gp.head(100)"
   ]
  },
  {
   "cell_type": "code",
   "execution_count": null,
   "metadata": {},
   "outputs": [],
   "source": [
    "gp_sorted = gp.sort_values(['ENTRY_COUNTS'], ascending=False)"
   ]
  },
  {
   "cell_type": "code",
   "execution_count": null,
   "metadata": {},
   "outputs": [],
   "source": [
    "gp_sorted.nlargest(20, 'ENTRY_COUNTS')"
   ]
  },
  {
   "cell_type": "code",
   "execution_count": null,
   "metadata": {},
   "outputs": [],
   "source": [
    "plt.hist(df.ENTRY_COUNTS[df.ENTRY_COUNTS < 2000])"
   ]
  },
  {
   "cell_type": "code",
   "execution_count": null,
   "metadata": {},
   "outputs": [],
   "source": []
  },
  {
   "cell_type": "code",
   "execution_count": null,
   "metadata": {
    "scrolled": true
   },
   "outputs": [],
   "source": [
    "df = df[df['ENTRY_COUNTS'] < 4000]"
   ]
  },
  {
   "cell_type": "code",
   "execution_count": null,
   "metadata": {},
   "outputs": [],
   "source": []
  },
  {
   "cell_type": "code",
   "execution_count": null,
   "metadata": {},
   "outputs": [],
   "source": [
    "df.loc[36217:36221]"
   ]
  },
  {
   "cell_type": "code",
   "execution_count": null,
   "metadata": {},
   "outputs": [],
   "source": [
    "df.ENTRY_COUNTS.median()"
   ]
  },
  {
   "cell_type": "code",
   "execution_count": null,
   "metadata": {},
   "outputs": [],
   "source": [
    "df.ENTRY_COUNTS.mean()"
   ]
  },
  {
   "cell_type": "code",
   "execution_count": null,
   "metadata": {},
   "outputs": [],
   "source": [
    "df.head()"
   ]
  },
  {
   "cell_type": "code",
   "execution_count": null,
   "metadata": {},
   "outputs": [],
   "source": []
  },
  {
   "cell_type": "code",
   "execution_count": null,
   "metadata": {},
   "outputs": [],
   "source": []
  },
  {
   "cell_type": "code",
   "execution_count": null,
   "metadata": {},
   "outputs": [],
   "source": []
  },
  {
   "cell_type": "code",
   "execution_count": null,
   "metadata": {},
   "outputs": [],
   "source": []
  },
  {
   "cell_type": "code",
   "execution_count": null,
   "metadata": {},
   "outputs": [],
   "source": []
  },
  {
   "cell_type": "code",
   "execution_count": null,
   "metadata": {},
   "outputs": [],
   "source": []
  },
  {
   "cell_type": "code",
   "execution_count": null,
   "metadata": {},
   "outputs": [],
   "source": [
    "# Create a dict dataframes that contain the turnstile data for each station\n",
    "dict_of_station_frames = {station : df[df.STATION == station] for station in df['STATION'].unique()}\n",
    "len(dict_of_station_frames.keys())"
   ]
  },
  {
   "cell_type": "code",
   "execution_count": null,
   "metadata": {},
   "outputs": [],
   "source": [
    "dict_of_station_frames['59 ST'].head()"
   ]
  },
  {
   "cell_type": "code",
   "execution_count": null,
   "metadata": {},
   "outputs": [],
   "source": [
    "for name in dict_of_station_frames.keys():\n",
    "    print(name + ':\\n')\n",
    "    print(dict_of_station_frames[name].describe())"
   ]
  },
  {
   "cell_type": "code",
   "execution_count": null,
   "metadata": {},
   "outputs": [],
   "source": [
    "station_counts = defaultdict(int)\n",
    "for name in dict_of_station_frames.keys():\n",
    "    frame = dict_of_station_frames[name].copy()\n",
    "    frame['ENTRY_COUNT'] = frame['ENTRIES'] - frame['ENTRIES'].shift(1)\n",
    "    frame['ENTRY_COUNT'].fillna(0, inplace=True)\n",
    "    dict_of_station_frames[name] = frame\n",
    "    print(dict_of_station_frames[name].head(5))\n",
    "    station_counts[name] = dict_of_station_frames[name]['ENTRY_COUNT'].sum()"
   ]
  },
  {
   "cell_type": "code",
   "execution_count": null,
   "metadata": {},
   "outputs": [],
   "source": [
    "for key, value in station_counts.items():\n",
    "    print(key, ':', value)"
   ]
  },
  {
   "cell_type": "code",
   "execution_count": null,
   "metadata": {},
   "outputs": [],
   "source": [
    "for name in dict_of_station_frames.keys():\n",
    "    "
   ]
  },
  {
   "cell_type": "code",
   "execution_count": null,
   "metadata": {},
   "outputs": [],
   "source": []
  },
  {
   "cell_type": "code",
   "execution_count": null,
   "metadata": {},
   "outputs": [],
   "source": []
  },
  {
   "cell_type": "code",
   "execution_count": null,
   "metadata": {},
   "outputs": [],
   "source": []
  },
  {
   "cell_type": "code",
   "execution_count": null,
   "metadata": {},
   "outputs": [],
   "source": [
    "df.head()"
   ]
  },
  {
   "cell_type": "code",
   "execution_count": null,
   "metadata": {},
   "outputs": [],
   "source": [
    "# Filter data to daylight hours\n",
    "times = ['12:00:00', '16:00:00', '20:00:00']\n",
    "df = df[df['TIME'].isin(times)]"
   ]
  },
  {
   "cell_type": "code",
   "execution_count": null,
   "metadata": {},
   "outputs": [],
   "source": []
  },
  {
   "cell_type": "code",
   "execution_count": null,
   "metadata": {},
   "outputs": [],
   "source": []
  },
  {
   "cell_type": "code",
   "execution_count": null,
   "metadata": {},
   "outputs": [],
   "source": []
  },
  {
   "cell_type": "code",
   "execution_count": null,
   "metadata": {},
   "outputs": [],
   "source": [
    "gd = df.groupby(['STATION', 'WEEKDAY', 'TIME'], as_index=False).count()"
   ]
  },
  {
   "cell_type": "code",
   "execution_count": null,
   "metadata": {},
   "outputs": [],
   "source": [
    "gd.head()"
   ]
  },
  {
   "cell_type": "code",
   "execution_count": null,
   "metadata": {},
   "outputs": [],
   "source": []
  }
 ],
 "metadata": {
  "kernelspec": {
   "display_name": "Python [conda env:metis] *",
   "language": "python",
   "name": "conda-env-metis-py"
  },
  "language_info": {
   "codemirror_mode": {
    "name": "ipython",
    "version": 3
   },
   "file_extension": ".py",
   "mimetype": "text/x-python",
   "name": "python",
   "nbconvert_exporter": "python",
   "pygments_lexer": "ipython3",
   "version": "3.7.4"
  }
 },
 "nbformat": 4,
 "nbformat_minor": 2
}
