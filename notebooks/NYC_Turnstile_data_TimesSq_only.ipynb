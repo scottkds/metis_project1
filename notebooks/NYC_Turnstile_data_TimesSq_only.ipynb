{
 "cells": [
  {
   "cell_type": "code",
   "execution_count": 1,
   "metadata": {},
   "outputs": [],
   "source": [
    "# Imports\n",
    "import pandas as pd\n",
    "import matplotlib.pyplot as plt\n",
    "import numpy as np\n",
    "import seaborn as sns\n",
    "import pickle\n",
    "from glob import glob\n",
    "from datetime import datetime, date, time, timedelta\n",
    "from collections import defaultdict"
   ]
  },
  {
   "cell_type": "code",
   "execution_count": 2,
   "metadata": {},
   "outputs": [],
   "source": [
    "%config InlineBackend.figure_format = 'svg'"
   ]
  },
  {
   "cell_type": "code",
   "execution_count": 3,
   "metadata": {},
   "outputs": [
    {
     "data": {
      "text/html": [
       "<div>\n",
       "<style scoped>\n",
       "    .dataframe tbody tr th:only-of-type {\n",
       "        vertical-align: middle;\n",
       "    }\n",
       "\n",
       "    .dataframe tbody tr th {\n",
       "        vertical-align: top;\n",
       "    }\n",
       "\n",
       "    .dataframe thead th {\n",
       "        text-align: right;\n",
       "    }\n",
       "</style>\n",
       "<table border=\"1\" class=\"dataframe\">\n",
       "  <thead>\n",
       "    <tr style=\"text-align: right;\">\n",
       "      <th></th>\n",
       "      <th>TurnstileStationName</th>\n",
       "      <th>StationLocationName</th>\n",
       "    </tr>\n",
       "  </thead>\n",
       "  <tbody>\n",
       "    <tr>\n",
       "      <td>0</td>\n",
       "      <td>1 AV</td>\n",
       "      <td>1st Av</td>\n",
       "    </tr>\n",
       "    <tr>\n",
       "      <td>1</td>\n",
       "      <td>103 ST</td>\n",
       "      <td>103rd St</td>\n",
       "    </tr>\n",
       "    <tr>\n",
       "      <td>2</td>\n",
       "      <td>103 ST-CORONA</td>\n",
       "      <td>103rd St</td>\n",
       "    </tr>\n",
       "    <tr>\n",
       "      <td>3</td>\n",
       "      <td>104 ST</td>\n",
       "      <td>104th St-102nd St</td>\n",
       "    </tr>\n",
       "    <tr>\n",
       "      <td>4</td>\n",
       "      <td>110 ST</td>\n",
       "      <td>110th St</td>\n",
       "    </tr>\n",
       "  </tbody>\n",
       "</table>\n",
       "</div>"
      ],
      "text/plain": [
       "  TurnstileStationName StationLocationName\n",
       "0                 1 AV              1st Av\n",
       "1               103 ST            103rd St\n",
       "2        103 ST-CORONA            103rd St\n",
       "3               104 ST   104th St-102nd St\n",
       "4               110 ST            110th St"
      ]
     },
     "execution_count": 3,
     "metadata": {},
     "output_type": "execute_result"
    }
   ],
   "source": [
    "snm_df=pd.read_csv('../data/StationNamesMap.csv') #, index_col='TurnstileStationName')\n",
    "snm_df.head()"
   ]
  },
  {
   "cell_type": "code",
   "execution_count": 4,
   "metadata": {},
   "outputs": [
    {
     "data": {
      "text/html": [
       "<div>\n",
       "<style scoped>\n",
       "    .dataframe tbody tr th:only-of-type {\n",
       "        vertical-align: middle;\n",
       "    }\n",
       "\n",
       "    .dataframe tbody tr th {\n",
       "        vertical-align: top;\n",
       "    }\n",
       "\n",
       "    .dataframe thead th {\n",
       "        text-align: right;\n",
       "    }\n",
       "</style>\n",
       "<table border=\"1\" class=\"dataframe\">\n",
       "  <thead>\n",
       "    <tr style=\"text-align: right;\">\n",
       "      <th></th>\n",
       "      <th>Station_Name</th>\n",
       "      <th>Station_Latitude</th>\n",
       "      <th>Station_Longitude</th>\n",
       "    </tr>\n",
       "  </thead>\n",
       "  <tbody>\n",
       "    <tr>\n",
       "      <td>0</td>\n",
       "      <td>Ditmars Blvd</td>\n",
       "      <td>40.775036</td>\n",
       "      <td>-73.912034</td>\n",
       "    </tr>\n",
       "    <tr>\n",
       "      <td>1</td>\n",
       "      <td>Astoria Blvd-Hoyt Av</td>\n",
       "      <td>40.770258</td>\n",
       "      <td>-73.917843</td>\n",
       "    </tr>\n",
       "    <tr>\n",
       "      <td>2</td>\n",
       "      <td>30 Av-Grand Av</td>\n",
       "      <td>40.766779</td>\n",
       "      <td>-73.921479</td>\n",
       "    </tr>\n",
       "    <tr>\n",
       "      <td>3</td>\n",
       "      <td>Broadway</td>\n",
       "      <td>40.761820</td>\n",
       "      <td>-73.925508</td>\n",
       "    </tr>\n",
       "    <tr>\n",
       "      <td>4</td>\n",
       "      <td>36 Av-Washington Av</td>\n",
       "      <td>40.756804</td>\n",
       "      <td>-73.929575</td>\n",
       "    </tr>\n",
       "  </tbody>\n",
       "</table>\n",
       "</div>"
      ],
      "text/plain": [
       "           Station_Name  Station_Latitude  Station_Longitude\n",
       "0          Ditmars Blvd         40.775036         -73.912034\n",
       "1  Astoria Blvd-Hoyt Av         40.770258         -73.917843\n",
       "2        30 Av-Grand Av         40.766779         -73.921479\n",
       "3              Broadway         40.761820         -73.925508\n",
       "4   36 Av-Washington Av         40.756804         -73.929575"
      ]
     },
     "execution_count": 4,
     "metadata": {},
     "output_type": "execute_result"
    }
   ],
   "source": [
    "lat_lon_df = pd.read_csv('station_lat_lon.csv')\n",
    "lat_lon_df.head()"
   ]
  },
  {
   "cell_type": "code",
   "execution_count": 5,
   "metadata": {},
   "outputs": [],
   "source": [
    "# Borrowed from Metis class, generates integers.\n",
    "def generate_numbers():\n",
    "    \"\"\"\n",
    "    An infinite number generator ... stolen from Metis\n",
    "    \"\"\"\n",
    "    x = 0\n",
    "    while True:\n",
    "        x += 1\n",
    "        yield x # instead of return, I use yield, which makes this into a generator!\n",
    "\n",
    "id_gen = generate_numbers()"
   ]
  },
  {
   "cell_type": "code",
   "execution_count": 6,
   "metadata": {},
   "outputs": [],
   "source": [
    "# Set the number of rows to display when viewing dataframes / head / tail\n",
    "pd.set_option(\"display.max_rows\", 101)"
   ]
  },
  {
   "cell_type": "code",
   "execution_count": 7,
   "metadata": {},
   "outputs": [],
   "source": [
    "# A function for viewing problematic rows. Show preceeding and following rows.\n",
    "def sample(frame, index):\n",
    "    \"\"\"Returns three lines from a dataframe centered around the index parameter\"\"\"\n",
    "    return frame.loc[index-1:index+1]"
   ]
  },
  {
   "cell_type": "code",
   "execution_count": 8,
   "metadata": {},
   "outputs": [],
   "source": [
    "def am_pm(datetime_series):\n",
    "    \"\"\"Creates a Pandas Series object with the same index as the input index and values of\n",
    "    AM or PM depeneding on the supplied timestamp.\"\"\"\n",
    "    s = pd.Series(index=datetime_series.index)\n",
    "    for index, value in datetime_series.items():\n",
    "        entry_time = datetime_series[index].time()\n",
    "        if  entry_time > time(12,0,0) or entry_time == time(0,0,0):\n",
    "            s[index] = 'PM'\n",
    "        else:\n",
    "            s[index] = 'AM'\n",
    "    return s"
   ]
  },
  {
   "cell_type": "code",
   "execution_count": 9,
   "metadata": {},
   "outputs": [],
   "source": [
    "def simplify_id(series):\n",
    "    \"\"\"Takes a series and changes the values to simple integers. This is to speed up comparisons\"\"\"\n",
    "    s = pd.Series(index=series.index)\n",
    "    id_set = set(series)\n",
    "    d = {val : next(id_gen) for val in id_set}\n",
    "    for index, value in series.iteritems():\n",
    "        s[index] = d[value]\n",
    "    return s"
   ]
  },
  {
   "cell_type": "code",
   "execution_count": 11,
   "metadata": {},
   "outputs": [
    {
     "name": "stdout",
     "output_type": "stream",
     "text": [
      "['../data/turnstile_190316.txt']\n",
      "(201792, 11)\n"
     ]
    },
    {
     "data": {
      "text/html": [
       "<div>\n",
       "<style scoped>\n",
       "    .dataframe tbody tr th:only-of-type {\n",
       "        vertical-align: middle;\n",
       "    }\n",
       "\n",
       "    .dataframe tbody tr th {\n",
       "        vertical-align: top;\n",
       "    }\n",
       "\n",
       "    .dataframe thead th {\n",
       "        text-align: right;\n",
       "    }\n",
       "</style>\n",
       "<table border=\"1\" class=\"dataframe\">\n",
       "  <thead>\n",
       "    <tr style=\"text-align: right;\">\n",
       "      <th></th>\n",
       "      <th>C/A</th>\n",
       "      <th>UNIT</th>\n",
       "      <th>SCP</th>\n",
       "      <th>STATION</th>\n",
       "      <th>LINENAME</th>\n",
       "      <th>DIVISION</th>\n",
       "      <th>DATE</th>\n",
       "      <th>TIME</th>\n",
       "      <th>DESC</th>\n",
       "      <th>ENTRIES</th>\n",
       "      <th>EXITS</th>\n",
       "    </tr>\n",
       "  </thead>\n",
       "  <tbody>\n",
       "    <tr>\n",
       "      <td>0</td>\n",
       "      <td>A002</td>\n",
       "      <td>R051</td>\n",
       "      <td>02-00-00</td>\n",
       "      <td>59 ST</td>\n",
       "      <td>NQR456W</td>\n",
       "      <td>BMT</td>\n",
       "      <td>03/09/2019</td>\n",
       "      <td>03:00:00</td>\n",
       "      <td>REGULAR</td>\n",
       "      <td>6972000</td>\n",
       "      <td>2365115</td>\n",
       "    </tr>\n",
       "    <tr>\n",
       "      <td>1</td>\n",
       "      <td>A002</td>\n",
       "      <td>R051</td>\n",
       "      <td>02-00-00</td>\n",
       "      <td>59 ST</td>\n",
       "      <td>NQR456W</td>\n",
       "      <td>BMT</td>\n",
       "      <td>03/09/2019</td>\n",
       "      <td>07:00:00</td>\n",
       "      <td>REGULAR</td>\n",
       "      <td>6972010</td>\n",
       "      <td>2365118</td>\n",
       "    </tr>\n",
       "    <tr>\n",
       "      <td>2</td>\n",
       "      <td>A002</td>\n",
       "      <td>R051</td>\n",
       "      <td>02-00-00</td>\n",
       "      <td>59 ST</td>\n",
       "      <td>NQR456W</td>\n",
       "      <td>BMT</td>\n",
       "      <td>03/09/2019</td>\n",
       "      <td>11:00:00</td>\n",
       "      <td>REGULAR</td>\n",
       "      <td>6972049</td>\n",
       "      <td>2365173</td>\n",
       "    </tr>\n",
       "    <tr>\n",
       "      <td>3</td>\n",
       "      <td>A002</td>\n",
       "      <td>R051</td>\n",
       "      <td>02-00-00</td>\n",
       "      <td>59 ST</td>\n",
       "      <td>NQR456W</td>\n",
       "      <td>BMT</td>\n",
       "      <td>03/09/2019</td>\n",
       "      <td>15:00:00</td>\n",
       "      <td>REGULAR</td>\n",
       "      <td>6972214</td>\n",
       "      <td>2365204</td>\n",
       "    </tr>\n",
       "    <tr>\n",
       "      <td>4</td>\n",
       "      <td>A002</td>\n",
       "      <td>R051</td>\n",
       "      <td>02-00-00</td>\n",
       "      <td>59 ST</td>\n",
       "      <td>NQR456W</td>\n",
       "      <td>BMT</td>\n",
       "      <td>03/09/2019</td>\n",
       "      <td>19:00:00</td>\n",
       "      <td>REGULAR</td>\n",
       "      <td>6972474</td>\n",
       "      <td>2365272</td>\n",
       "    </tr>\n",
       "  </tbody>\n",
       "</table>\n",
       "</div>"
      ],
      "text/plain": [
       "    C/A  UNIT       SCP STATION LINENAME DIVISION        DATE      TIME  \\\n",
       "0  A002  R051  02-00-00   59 ST  NQR456W      BMT  03/09/2019  03:00:00   \n",
       "1  A002  R051  02-00-00   59 ST  NQR456W      BMT  03/09/2019  07:00:00   \n",
       "2  A002  R051  02-00-00   59 ST  NQR456W      BMT  03/09/2019  11:00:00   \n",
       "3  A002  R051  02-00-00   59 ST  NQR456W      BMT  03/09/2019  15:00:00   \n",
       "4  A002  R051  02-00-00   59 ST  NQR456W      BMT  03/09/2019  19:00:00   \n",
       "\n",
       "      DESC  ENTRIES  \\\n",
       "0  REGULAR  6972000   \n",
       "1  REGULAR  6972010   \n",
       "2  REGULAR  6972049   \n",
       "3  REGULAR  6972214   \n",
       "4  REGULAR  6972474   \n",
       "\n",
       "   EXITS                                                                 \n",
       "0                                            2365115                     \n",
       "1                                            2365118                     \n",
       "2                                            2365173                     \n",
       "3                                            2365204                     \n",
       "4                                            2365272                     "
      ]
     },
     "execution_count": 11,
     "metadata": {},
     "output_type": "execute_result"
    }
   ],
   "source": [
    "# Read data files\n",
    "# list_of_data_files = sorted(glob('../data/*.txt'))\n",
    "# list_of_data_files = glob('../data/turnstile_190323.txt')\n",
    "# list_of_data_files += glob('../data/turnstile_190330.txt')\n",
    "list_of_data_files = glob('../data/turnstile_190316.txt')\n",
    "# print(list_of_data_files)\n",
    "\n",
    "# Read data files into pandas dataframes\n",
    "list_of_dataframes = [pd.read_csv(file) for file in list_of_data_files]\n",
    "print(list_of_data_files)\n",
    "df = pd.concat(list_of_dataframes)\n",
    "print(df.shape)\n",
    "df.head()"
   ]
  },
  {
   "cell_type": "code",
   "execution_count": 12,
   "metadata": {},
   "outputs": [
    {
     "name": "stdout",
     "output_type": "stream",
     "text": [
      "2066\n"
     ]
    }
   ],
   "source": [
    "df = df[df['STATION'].str.match(r'TIMES')]\n",
    "num_timessq_entries = df.shape[0]\n",
    "print(num_timessq_entries)"
   ]
  },
  {
   "cell_type": "code",
   "execution_count": null,
   "metadata": {},
   "outputs": [],
   "source": []
  },
  {
   "cell_type": "code",
   "execution_count": null,
   "metadata": {},
   "outputs": [],
   "source": []
  },
  {
   "cell_type": "code",
   "execution_count": 13,
   "metadata": {},
   "outputs": [
    {
     "data": {
      "text/html": [
       "<div>\n",
       "<style scoped>\n",
       "    .dataframe tbody tr th:only-of-type {\n",
       "        vertical-align: middle;\n",
       "    }\n",
       "\n",
       "    .dataframe tbody tr th {\n",
       "        vertical-align: top;\n",
       "    }\n",
       "\n",
       "    .dataframe thead th {\n",
       "        text-align: right;\n",
       "    }\n",
       "</style>\n",
       "<table border=\"1\" class=\"dataframe\">\n",
       "  <thead>\n",
       "    <tr style=\"text-align: right;\">\n",
       "      <th></th>\n",
       "      <th>C/A</th>\n",
       "      <th>UNIT</th>\n",
       "      <th>SCP</th>\n",
       "      <th>STATION</th>\n",
       "      <th>LINENAME</th>\n",
       "      <th>DIVISION</th>\n",
       "      <th>DATE</th>\n",
       "      <th>TIME</th>\n",
       "      <th>DESC</th>\n",
       "      <th>ENTRIES</th>\n",
       "      <th>EXITS</th>\n",
       "      <th>TurnstileStationName</th>\n",
       "      <th>StationLocationName</th>\n",
       "    </tr>\n",
       "  </thead>\n",
       "  <tbody>\n",
       "    <tr>\n",
       "      <td>0</td>\n",
       "      <td>A021</td>\n",
       "      <td>R032</td>\n",
       "      <td>01-00-00</td>\n",
       "      <td>TIMES SQ-42 ST</td>\n",
       "      <td>ACENQRS1237W</td>\n",
       "      <td>BMT</td>\n",
       "      <td>03/09/2019</td>\n",
       "      <td>03:00:00</td>\n",
       "      <td>REGULAR</td>\n",
       "      <td>8630701</td>\n",
       "      <td>10554882</td>\n",
       "      <td>TIMES SQ-42 ST</td>\n",
       "      <td>Times Square-42nd St</td>\n",
       "    </tr>\n",
       "    <tr>\n",
       "      <td>1</td>\n",
       "      <td>A021</td>\n",
       "      <td>R032</td>\n",
       "      <td>01-00-00</td>\n",
       "      <td>TIMES SQ-42 ST</td>\n",
       "      <td>ACENQRS1237W</td>\n",
       "      <td>BMT</td>\n",
       "      <td>03/09/2019</td>\n",
       "      <td>07:00:00</td>\n",
       "      <td>REGULAR</td>\n",
       "      <td>8630752</td>\n",
       "      <td>10554936</td>\n",
       "      <td>TIMES SQ-42 ST</td>\n",
       "      <td>Times Square-42nd St</td>\n",
       "    </tr>\n",
       "    <tr>\n",
       "      <td>2</td>\n",
       "      <td>A021</td>\n",
       "      <td>R032</td>\n",
       "      <td>01-00-00</td>\n",
       "      <td>TIMES SQ-42 ST</td>\n",
       "      <td>ACENQRS1237W</td>\n",
       "      <td>BMT</td>\n",
       "      <td>03/09/2019</td>\n",
       "      <td>11:00:00</td>\n",
       "      <td>REGULAR</td>\n",
       "      <td>8630929</td>\n",
       "      <td>10555445</td>\n",
       "      <td>TIMES SQ-42 ST</td>\n",
       "      <td>Times Square-42nd St</td>\n",
       "    </tr>\n",
       "    <tr>\n",
       "      <td>3</td>\n",
       "      <td>A021</td>\n",
       "      <td>R032</td>\n",
       "      <td>01-00-00</td>\n",
       "      <td>TIMES SQ-42 ST</td>\n",
       "      <td>ACENQRS1237W</td>\n",
       "      <td>BMT</td>\n",
       "      <td>03/09/2019</td>\n",
       "      <td>15:00:00</td>\n",
       "      <td>REGULAR</td>\n",
       "      <td>8631253</td>\n",
       "      <td>10556119</td>\n",
       "      <td>TIMES SQ-42 ST</td>\n",
       "      <td>Times Square-42nd St</td>\n",
       "    </tr>\n",
       "    <tr>\n",
       "      <td>4</td>\n",
       "      <td>A021</td>\n",
       "      <td>R032</td>\n",
       "      <td>01-00-00</td>\n",
       "      <td>TIMES SQ-42 ST</td>\n",
       "      <td>ACENQRS1237W</td>\n",
       "      <td>BMT</td>\n",
       "      <td>03/09/2019</td>\n",
       "      <td>19:00:00</td>\n",
       "      <td>REGULAR</td>\n",
       "      <td>8631760</td>\n",
       "      <td>10556788</td>\n",
       "      <td>TIMES SQ-42 ST</td>\n",
       "      <td>Times Square-42nd St</td>\n",
       "    </tr>\n",
       "  </tbody>\n",
       "</table>\n",
       "</div>"
      ],
      "text/plain": [
       "    C/A  UNIT       SCP         STATION      LINENAME DIVISION        DATE  \\\n",
       "0  A021  R032  01-00-00  TIMES SQ-42 ST  ACENQRS1237W      BMT  03/09/2019   \n",
       "1  A021  R032  01-00-00  TIMES SQ-42 ST  ACENQRS1237W      BMT  03/09/2019   \n",
       "2  A021  R032  01-00-00  TIMES SQ-42 ST  ACENQRS1237W      BMT  03/09/2019   \n",
       "3  A021  R032  01-00-00  TIMES SQ-42 ST  ACENQRS1237W      BMT  03/09/2019   \n",
       "4  A021  R032  01-00-00  TIMES SQ-42 ST  ACENQRS1237W      BMT  03/09/2019   \n",
       "\n",
       "       TIME     DESC  ENTRIES  \\\n",
       "0  03:00:00  REGULAR  8630701   \n",
       "1  07:00:00  REGULAR  8630752   \n",
       "2  11:00:00  REGULAR  8630929   \n",
       "3  15:00:00  REGULAR  8631253   \n",
       "4  19:00:00  REGULAR  8631760   \n",
       "\n",
       "   EXITS                                                                 \\\n",
       "0                                           10554882                      \n",
       "1                                           10554936                      \n",
       "2                                           10555445                      \n",
       "3                                           10556119                      \n",
       "4                                           10556788                      \n",
       "\n",
       "  TurnstileStationName   StationLocationName  \n",
       "0       TIMES SQ-42 ST  Times Square-42nd St  \n",
       "1       TIMES SQ-42 ST  Times Square-42nd St  \n",
       "2       TIMES SQ-42 ST  Times Square-42nd St  \n",
       "3       TIMES SQ-42 ST  Times Square-42nd St  \n",
       "4       TIMES SQ-42 ST  Times Square-42nd St  "
      ]
     },
     "execution_count": 13,
     "metadata": {},
     "output_type": "execute_result"
    }
   ],
   "source": [
    "df = df.merge(snm_df, how='inner', left_on='STATION', right_on='TurnstileStationName')\n",
    "df.head()"
   ]
  },
  {
   "cell_type": "code",
   "execution_count": 14,
   "metadata": {},
   "outputs": [],
   "source": [
    "df['STATION'] = df['StationLocationName']"
   ]
  },
  {
   "cell_type": "code",
   "execution_count": 15,
   "metadata": {},
   "outputs": [
    {
     "data": {
      "text/html": [
       "<div>\n",
       "<style scoped>\n",
       "    .dataframe tbody tr th:only-of-type {\n",
       "        vertical-align: middle;\n",
       "    }\n",
       "\n",
       "    .dataframe tbody tr th {\n",
       "        vertical-align: top;\n",
       "    }\n",
       "\n",
       "    .dataframe thead th {\n",
       "        text-align: right;\n",
       "    }\n",
       "</style>\n",
       "<table border=\"1\" class=\"dataframe\">\n",
       "  <thead>\n",
       "    <tr style=\"text-align: right;\">\n",
       "      <th></th>\n",
       "      <th>C/A</th>\n",
       "      <th>UNIT</th>\n",
       "      <th>SCP</th>\n",
       "      <th>STATION</th>\n",
       "      <th>LINENAME</th>\n",
       "      <th>DIVISION</th>\n",
       "      <th>DATE</th>\n",
       "      <th>TIME</th>\n",
       "      <th>DESC</th>\n",
       "      <th>ENTRIES</th>\n",
       "      <th>EXITS</th>\n",
       "      <th>TurnstileStationName</th>\n",
       "      <th>StationLocationName</th>\n",
       "      <th>Station_Name</th>\n",
       "      <th>Station_Latitude</th>\n",
       "      <th>Station_Longitude</th>\n",
       "    </tr>\n",
       "  </thead>\n",
       "  <tbody>\n",
       "    <tr>\n",
       "      <td>0</td>\n",
       "      <td>A021</td>\n",
       "      <td>R032</td>\n",
       "      <td>01-00-00</td>\n",
       "      <td>Times Square-42nd St</td>\n",
       "      <td>ACENQRS1237W</td>\n",
       "      <td>BMT</td>\n",
       "      <td>03/09/2019</td>\n",
       "      <td>03:00:00</td>\n",
       "      <td>REGULAR</td>\n",
       "      <td>8630701</td>\n",
       "      <td>10554882</td>\n",
       "      <td>TIMES SQ-42 ST</td>\n",
       "      <td>Times Square-42nd St</td>\n",
       "      <td>Times Square-42nd St</td>\n",
       "      <td>40.754672</td>\n",
       "      <td>-73.986754</td>\n",
       "    </tr>\n",
       "    <tr>\n",
       "      <td>1</td>\n",
       "      <td>A021</td>\n",
       "      <td>R032</td>\n",
       "      <td>01-00-00</td>\n",
       "      <td>Times Square-42nd St</td>\n",
       "      <td>ACENQRS1237W</td>\n",
       "      <td>BMT</td>\n",
       "      <td>03/09/2019</td>\n",
       "      <td>07:00:00</td>\n",
       "      <td>REGULAR</td>\n",
       "      <td>8630752</td>\n",
       "      <td>10554936</td>\n",
       "      <td>TIMES SQ-42 ST</td>\n",
       "      <td>Times Square-42nd St</td>\n",
       "      <td>Times Square-42nd St</td>\n",
       "      <td>40.754672</td>\n",
       "      <td>-73.986754</td>\n",
       "    </tr>\n",
       "    <tr>\n",
       "      <td>2</td>\n",
       "      <td>A021</td>\n",
       "      <td>R032</td>\n",
       "      <td>01-00-00</td>\n",
       "      <td>Times Square-42nd St</td>\n",
       "      <td>ACENQRS1237W</td>\n",
       "      <td>BMT</td>\n",
       "      <td>03/09/2019</td>\n",
       "      <td>11:00:00</td>\n",
       "      <td>REGULAR</td>\n",
       "      <td>8630929</td>\n",
       "      <td>10555445</td>\n",
       "      <td>TIMES SQ-42 ST</td>\n",
       "      <td>Times Square-42nd St</td>\n",
       "      <td>Times Square-42nd St</td>\n",
       "      <td>40.754672</td>\n",
       "      <td>-73.986754</td>\n",
       "    </tr>\n",
       "    <tr>\n",
       "      <td>3</td>\n",
       "      <td>A021</td>\n",
       "      <td>R032</td>\n",
       "      <td>01-00-00</td>\n",
       "      <td>Times Square-42nd St</td>\n",
       "      <td>ACENQRS1237W</td>\n",
       "      <td>BMT</td>\n",
       "      <td>03/09/2019</td>\n",
       "      <td>15:00:00</td>\n",
       "      <td>REGULAR</td>\n",
       "      <td>8631253</td>\n",
       "      <td>10556119</td>\n",
       "      <td>TIMES SQ-42 ST</td>\n",
       "      <td>Times Square-42nd St</td>\n",
       "      <td>Times Square-42nd St</td>\n",
       "      <td>40.754672</td>\n",
       "      <td>-73.986754</td>\n",
       "    </tr>\n",
       "    <tr>\n",
       "      <td>4</td>\n",
       "      <td>A021</td>\n",
       "      <td>R032</td>\n",
       "      <td>01-00-00</td>\n",
       "      <td>Times Square-42nd St</td>\n",
       "      <td>ACENQRS1237W</td>\n",
       "      <td>BMT</td>\n",
       "      <td>03/09/2019</td>\n",
       "      <td>19:00:00</td>\n",
       "      <td>REGULAR</td>\n",
       "      <td>8631760</td>\n",
       "      <td>10556788</td>\n",
       "      <td>TIMES SQ-42 ST</td>\n",
       "      <td>Times Square-42nd St</td>\n",
       "      <td>Times Square-42nd St</td>\n",
       "      <td>40.754672</td>\n",
       "      <td>-73.986754</td>\n",
       "    </tr>\n",
       "  </tbody>\n",
       "</table>\n",
       "</div>"
      ],
      "text/plain": [
       "    C/A  UNIT       SCP               STATION      LINENAME DIVISION  \\\n",
       "0  A021  R032  01-00-00  Times Square-42nd St  ACENQRS1237W      BMT   \n",
       "1  A021  R032  01-00-00  Times Square-42nd St  ACENQRS1237W      BMT   \n",
       "2  A021  R032  01-00-00  Times Square-42nd St  ACENQRS1237W      BMT   \n",
       "3  A021  R032  01-00-00  Times Square-42nd St  ACENQRS1237W      BMT   \n",
       "4  A021  R032  01-00-00  Times Square-42nd St  ACENQRS1237W      BMT   \n",
       "\n",
       "         DATE      TIME     DESC  ENTRIES  \\\n",
       "0  03/09/2019  03:00:00  REGULAR  8630701   \n",
       "1  03/09/2019  07:00:00  REGULAR  8630752   \n",
       "2  03/09/2019  11:00:00  REGULAR  8630929   \n",
       "3  03/09/2019  15:00:00  REGULAR  8631253   \n",
       "4  03/09/2019  19:00:00  REGULAR  8631760   \n",
       "\n",
       "   EXITS                                                                 \\\n",
       "0                                           10554882                      \n",
       "1                                           10554936                      \n",
       "2                                           10555445                      \n",
       "3                                           10556119                      \n",
       "4                                           10556788                      \n",
       "\n",
       "  TurnstileStationName   StationLocationName          Station_Name  \\\n",
       "0       TIMES SQ-42 ST  Times Square-42nd St  Times Square-42nd St   \n",
       "1       TIMES SQ-42 ST  Times Square-42nd St  Times Square-42nd St   \n",
       "2       TIMES SQ-42 ST  Times Square-42nd St  Times Square-42nd St   \n",
       "3       TIMES SQ-42 ST  Times Square-42nd St  Times Square-42nd St   \n",
       "4       TIMES SQ-42 ST  Times Square-42nd St  Times Square-42nd St   \n",
       "\n",
       "   Station_Latitude  Station_Longitude  \n",
       "0         40.754672         -73.986754  \n",
       "1         40.754672         -73.986754  \n",
       "2         40.754672         -73.986754  \n",
       "3         40.754672         -73.986754  \n",
       "4         40.754672         -73.986754  "
      ]
     },
     "execution_count": 15,
     "metadata": {},
     "output_type": "execute_result"
    }
   ],
   "source": [
    "df = df.merge(lat_lon_df, how='inner', left_on='STATION', right_on='Station_Name')\n",
    "df.head()"
   ]
  },
  {
   "cell_type": "code",
   "execution_count": null,
   "metadata": {},
   "outputs": [],
   "source": [
    "df.drop(['TurnstileStationName', 'StationLocationName', 'Station_Name'], axis=1, inplace=True)"
   ]
  },
  {
   "cell_type": "code",
   "execution_count": null,
   "metadata": {},
   "outputs": [],
   "source": [
    "df.head()"
   ]
  },
  {
   "cell_type": "code",
   "execution_count": null,
   "metadata": {},
   "outputs": [],
   "source": [
    "df.to_csv('./notrack/agg_station_data.csv', index=False)"
   ]
  },
  {
   "cell_type": "code",
   "execution_count": null,
   "metadata": {},
   "outputs": [],
   "source": [
    "# Clean up strange spaces in column names\n",
    "df.columns = df.columns.str.strip()\n",
    "df.columns"
   ]
  },
  {
   "cell_type": "code",
   "execution_count": null,
   "metadata": {},
   "outputs": [],
   "source": [
    "# Create a tuples of columns 'C/A', 'UNIT', 'SCP', 'STATION'\n",
    "df['ID'] = pd.Series(zip(df['C/A'], df['UNIT'], df['SCP'], df['STATION']))"
   ]
  },
  {
   "cell_type": "code",
   "execution_count": null,
   "metadata": {},
   "outputs": [],
   "source": [
    "# Replace IDs created above with itengers because processing tuples is really slow\n",
    "# df['NEW_ID'] = simplify_id(df['ID'])"
   ]
  },
  {
   "cell_type": "code",
   "execution_count": null,
   "metadata": {},
   "outputs": [],
   "source": [
    "df.head()"
   ]
  },
  {
   "cell_type": "code",
   "execution_count": null,
   "metadata": {},
   "outputs": [],
   "source": [
    "df.info()"
   ]
  },
  {
   "cell_type": "code",
   "execution_count": null,
   "metadata": {},
   "outputs": [],
   "source": [
    "# Filter out df['DESC'] == 'RECOVR AUD'. These entries create large jumps in entry counts\n",
    "df = df[df['DESC'] != 'RECOVR AUD']"
   ]
  },
  {
   "cell_type": "code",
   "execution_count": null,
   "metadata": {},
   "outputs": [],
   "source": [
    "# Add a weekday column\n",
    "df['DATE_TIME'] = df['DATE'] + ' ' + df['TIME']\n",
    "df['DATE_TIME'] = pd.to_datetime(df['DATE_TIME'])\n",
    "df['WEEKDAY'] = df['DATE_TIME'].dt.day_name()"
   ]
  },
  {
   "cell_type": "code",
   "execution_count": null,
   "metadata": {},
   "outputs": [],
   "source": [
    "# Drop unneeded columns\n",
    "df.drop(['LINENAME', 'DIVISION', 'DESC', 'C/A', 'UNIT', 'SCP', 'TIME'], inplace=True, axis=1)"
   ]
  },
  {
   "cell_type": "code",
   "execution_count": null,
   "metadata": {},
   "outputs": [],
   "source": [
    "# Limit to one station for simplicity\n",
    "# df = df[df['STATION'] == '59 ST']\n",
    "df.head()"
   ]
  },
  {
   "cell_type": "code",
   "execution_count": null,
   "metadata": {},
   "outputs": [],
   "source": [
    "# cache the number of rows for a future sanity check\n",
    "rows_in_orig = df.shape[0]"
   ]
  },
  {
   "cell_type": "code",
   "execution_count": null,
   "metadata": {},
   "outputs": [],
   "source": [
    "# Create a disctiondary of dataframes for each turnstile id for entry count processing\n",
    "# dict_of_ids = {id : df[df['NEW_ID'] == id] for id in df['NEW_ID'].unique()}\n",
    "dict_of_ids = {id : df[df['ID'] == id] for id in df['ID'].unique()}"
   ]
  },
  {
   "cell_type": "code",
   "execution_count": null,
   "metadata": {},
   "outputs": [],
   "source": [
    "# Sanity check to be sure things worked\n",
    "# dict_of_ids[8210.0].head()"
   ]
  },
  {
   "cell_type": "code",
   "execution_count": null,
   "metadata": {},
   "outputs": [],
   "source": [
    "# Create Entry counts based on subtracting a an entry count from the entry count in the next row.\n",
    "for key, frame in dict_of_ids.items():\n",
    "    dict_of_ids[key]['ENTRY_COUNT'] = abs(frame['ENTRIES'] - frame['ENTRIES'].shift(1)) + \\\n",
    "                                        abs(frame['EXITS'] - frame['EXITS'].shift(1))\n",
    "    dict_of_ids[key]['ENTRY_COUNT'].fillna(0, inplace=True)"
   ]
  },
  {
   "cell_type": "code",
   "execution_count": null,
   "metadata": {},
   "outputs": [],
   "source": [
    "# Recombine the dataframe from the dictionary of dataframes, now with entry counts\n",
    "df = pd.concat(dict_of_ids.values())"
   ]
  },
  {
   "cell_type": "code",
   "execution_count": null,
   "metadata": {},
   "outputs": [],
   "source": [
    "# Check the number of rows to be sure we didn't gain or lose anything\n",
    "assert(df.shape[0] == rows_in_orig)"
   ]
  },
  {
   "cell_type": "code",
   "execution_count": null,
   "metadata": {},
   "outputs": [],
   "source": [
    "df.shape"
   ]
  },
  {
   "cell_type": "code",
   "execution_count": null,
   "metadata": {},
   "outputs": [],
   "source": [
    "# Filter out counts larger than 300 because they are almost always turnstile resets.\n",
    "df = df[df['ENTRY_COUNT'] < 3000]"
   ]
  },
  {
   "cell_type": "code",
   "execution_count": null,
   "metadata": {},
   "outputs": [],
   "source": [
    "df.shape"
   ]
  },
  {
   "cell_type": "code",
   "execution_count": null,
   "metadata": {},
   "outputs": [],
   "source": [
    "# Create a DATE column from the DATE_TIME timestamp.\n",
    "df['DATE'] = df['DATE_TIME'].dt.date"
   ]
  },
  {
   "cell_type": "code",
   "execution_count": null,
   "metadata": {},
   "outputs": [],
   "source": [
    "df.head()"
   ]
  },
  {
   "cell_type": "code",
   "execution_count": null,
   "metadata": {},
   "outputs": [],
   "source": [
    "df[['ENTRY_COUNT']].describe()"
   ]
  },
  {
   "cell_type": "code",
   "execution_count": null,
   "metadata": {},
   "outputs": [],
   "source": [
    "# Sum up entry counts by date and weekday. This is a little redundant, but the WEEKDAY\n",
    "# column is needed for later processing.\n",
    "# gp_date_weekday = df.groupby(['STATION', 'DATE', 'WEEKDAY'], as_index=False).sum()\n",
    "gp_date_weekday = df.groupby(['STATION', 'DATE'], as_index=False).sum()"
   ]
  },
  {
   "cell_type": "code",
   "execution_count": null,
   "metadata": {},
   "outputs": [],
   "source": [
    "gp_date_weekday.head()"
   ]
  },
  {
   "cell_type": "code",
   "execution_count": null,
   "metadata": {},
   "outputs": [],
   "source": [
    "# Calculate the mean number of entries for each station.\n",
    "daily_mean_by_station = gp_date_weekday.groupby('STATION', as_index=False).mean()"
   ]
  },
  {
   "cell_type": "code",
   "execution_count": null,
   "metadata": {},
   "outputs": [],
   "source": [
    "# Round off the mean values as they have a crazy number of decimal places.\n",
    "daily_mean_by_station['ENTRY_COUNT'] = daily_mean_by_station['ENTRY_COUNT'].round(0)\n",
    "# daily_mean_by_station.sort_values('ENTRY_COUNT', ascending=False, inplace=True)"
   ]
  },
  {
   "cell_type": "code",
   "execution_count": null,
   "metadata": {},
   "outputs": [],
   "source": [
    "# Create a new dataframe of the file largest stations by entry count\n",
    "five_largest = daily_mean_by_station.nlargest(5, 'ENTRY_COUNT').sort_values('ENTRY_COUNT', ascending=False)\n",
    "station = five_largest.STATION\n",
    "entry_counts = five_largest.ENTRY_COUNT\n",
    "five_largest.to_csv('five_largest_stations.csv')\n"
   ]
  },
  {
   "cell_type": "code",
   "execution_count": null,
   "metadata": {},
   "outputs": [],
   "source": [
    "five_largest.head()"
   ]
  },
  {
   "cell_type": "code",
   "execution_count": null,
   "metadata": {},
   "outputs": [],
   "source": []
  },
  {
   "cell_type": "code",
   "execution_count": null,
   "metadata": {},
   "outputs": [],
   "source": []
  },
  {
   "cell_type": "code",
   "execution_count": null,
   "metadata": {},
   "outputs": [],
   "source": []
  },
  {
   "cell_type": "code",
   "execution_count": null,
   "metadata": {},
   "outputs": [],
   "source": [
    "five_largest.head()"
   ]
  },
  {
   "cell_type": "code",
   "execution_count": null,
   "metadata": {},
   "outputs": [],
   "source": [
    "# Create a reversed index so that stations display in descending order in the bar graph\n",
    "new_index = list(reversed(station.index))"
   ]
  },
  {
   "cell_type": "code",
   "execution_count": null,
   "metadata": {},
   "outputs": [],
   "source": [
    "# Plot the bar chart of the top 5 stations\n",
    "plt.barh(station[new_index], entry_counts[new_index]);\n",
    "plt.xlabel('Passenger Count', fontsize = 14, weight = 'bold',color='black');\n",
    "plt.title('Top Five Stations by Passenger Count', fontsize = 15, weight = 'bold',color='black')\n",
    "plt.savefig('top_five_stations_barh.png')"
   ]
  },
  {
   "cell_type": "code",
   "execution_count": null,
   "metadata": {},
   "outputs": [],
   "source": [
    "# Create a series of the top ten stations\n",
    "top_ten_stations = daily_mean_by_station.nlargest(10, 'ENTRY_COUNT').STATION\n",
    "top_ten_stations"
   ]
  },
  {
   "cell_type": "code",
   "execution_count": null,
   "metadata": {},
   "outputs": [],
   "source": [
    "top_ten_series = pd.Series(gp_top_ten_weekday.STATION.unique())[[2, 9, 7, 3, 1, 4, 0, 8, 6, 5]]"
   ]
  },
  {
   "cell_type": "code",
   "execution_count": null,
   "metadata": {},
   "outputs": [],
   "source": [
    "top_ten_df = gp_date_weekday[gp_date_weekday['STATION'].isin(top_ten_stations)]\n",
    "gp_top_ten_weekday = top_ten_df.groupby(['STATION', 'WEEKDAY'], as_index=False).mean()\n",
    "# gp_top_ten_weekday.drop(['ENTRIES', 'NEW_ID'], axis=1, inplace=True)\n",
    "gp_top_ten_weekday.drop(['ENTRIES'], axis=1, inplace=True)\n",
    "gp_top_ten_weekday.head(2)\n",
    "test = gp_top_ten_weekday.copy()\n",
    "test.set_index('WEEKDAY', inplace=True)\n",
    "wd_idx = ['Monday', 'Tuesday', 'Wednesday', 'Thursday', 'Friday', 'Saturday', 'Sunday']\n",
    "gp_top_ten_weekday = test.copy()\n",
    "legend_names = []\n",
    "plt.figure(figsize = [12,5])\n",
    "# for station in gp_top_ten_weekday.STATION.unique():\n",
    "for station in top_ten_series:\n",
    "    tmp_df = gp_top_ten_weekday[gp_top_ten_weekday['STATION'] == station]\n",
    "    plt.plot(tmp_df['ENTRY_COUNT'][wd_idx])\n",
    "    legend_names.append(station)\n",
    "plt.ylabel('Passenger Count', fontsize = 14, weight = 'bold',color='black');\n",
    "plt.title('Top Stations by Passenger Count', fontsize = 16, weight = 'bold',color='black')\n",
    "plt.xlabel('Week Day', fontsize = 14, weight = 'bold',color='black')\n",
    "# plt.legend(legend_names, shadow=True, loc = 0, fontsize=8);\n",
    "plt.legend(top_ten_series, shadow=True, loc = 0, fontsize=8);\n",
    "plt.savefig('top_stations.png')"
   ]
  },
  {
   "cell_type": "code",
   "execution_count": null,
   "metadata": {},
   "outputs": [],
   "source": [
    "# gp_top_ten_weekday.head(20)"
   ]
  },
  {
   "cell_type": "markdown",
   "metadata": {},
   "source": [
    "***"
   ]
  },
  {
   "cell_type": "code",
   "execution_count": null,
   "metadata": {},
   "outputs": [],
   "source": [
    "tf = df[df['STATION'] == '34th St']\n",
    "tf.shape"
   ]
  },
  {
   "cell_type": "code",
   "execution_count": null,
   "metadata": {},
   "outputs": [],
   "source": [
    "tf.head(20)"
   ]
  },
  {
   "cell_type": "code",
   "execution_count": null,
   "metadata": {},
   "outputs": [],
   "source": []
  },
  {
   "cell_type": "code",
   "execution_count": null,
   "metadata": {},
   "outputs": [],
   "source": [
    "pickle.dump(df, open( \"NYC_TS_DF.pickle\", \"wb\" ) )"
   ]
  },
  {
   "cell_type": "code",
   "execution_count": null,
   "metadata": {},
   "outputs": [],
   "source": [
    "gp_top_ten_weekday.STATION.unique()"
   ]
  },
  {
   "cell_type": "code",
   "execution_count": null,
   "metadata": {},
   "outputs": [],
   "source": []
  },
  {
   "cell_type": "code",
   "execution_count": null,
   "metadata": {},
   "outputs": [],
   "source": [
    "len(df.STATION.unique())"
   ]
  },
  {
   "cell_type": "code",
   "execution_count": null,
   "metadata": {},
   "outputs": [],
   "source": [
    "df['ENTRY_COUNTS'] = count_entries(df)"
   ]
  },
  {
   "cell_type": "code",
   "execution_count": null,
   "metadata": {},
   "outputs": [],
   "source": [
    "df['PCT_RANK'] = (df['ENTRY_COUNTS'].rank(pct=True) * 100).round(0)"
   ]
  },
  {
   "cell_type": "code",
   "execution_count": null,
   "metadata": {},
   "outputs": [],
   "source": [
    "df.head()"
   ]
  },
  {
   "cell_type": "code",
   "execution_count": null,
   "metadata": {},
   "outputs": [],
   "source": [
    "df[df['PCT_RANK'] == 99].shape"
   ]
  },
  {
   "cell_type": "code",
   "execution_count": null,
   "metadata": {},
   "outputs": [],
   "source": [
    "# Filter out ENTRY_COUNTS greater than 3000 because these are usually counter resets\n",
    "df = df[df['ENTRY_COUNTS'] < 3000]"
   ]
  },
  {
   "cell_type": "code",
   "execution_count": null,
   "metadata": {},
   "outputs": [],
   "source": [
    "df[df['ENTRY_COUNTS'] < 0]"
   ]
  },
  {
   "cell_type": "code",
   "execution_count": null,
   "metadata": {},
   "outputs": [],
   "source": [
    "print(df['ENTRY_COUNTS'].min(), df['ENTRY_COUNTS'].max()) "
   ]
  },
  {
   "cell_type": "code",
   "execution_count": null,
   "metadata": {},
   "outputs": [],
   "source": [
    "df['AM/PM'] = am_pm(df['DATE_TIME'])"
   ]
  },
  {
   "cell_type": "code",
   "execution_count": null,
   "metadata": {},
   "outputs": [],
   "source": [
    "df.head()"
   ]
  },
  {
   "cell_type": "code",
   "execution_count": null,
   "metadata": {},
   "outputs": [],
   "source": [
    "gp = df.groupby(['STATION', 'WEEKDAY', 'AM/PM'], as_index=False).sum()"
   ]
  },
  {
   "cell_type": "code",
   "execution_count": null,
   "metadata": {},
   "outputs": [],
   "source": [
    "gp.head(100)"
   ]
  },
  {
   "cell_type": "code",
   "execution_count": null,
   "metadata": {},
   "outputs": [],
   "source": [
    "gp_sorted = gp.sort_values(['ENTRY_COUNTS'], ascending=False)"
   ]
  },
  {
   "cell_type": "code",
   "execution_count": null,
   "metadata": {},
   "outputs": [],
   "source": [
    "gp_sorted.nlargest(20, 'ENTRY_COUNTS')"
   ]
  },
  {
   "cell_type": "code",
   "execution_count": null,
   "metadata": {},
   "outputs": [],
   "source": [
    "plt.hist(df.ENTRY_COUNTS[df.ENTRY_COUNTS < 2000])"
   ]
  },
  {
   "cell_type": "code",
   "execution_count": null,
   "metadata": {},
   "outputs": [],
   "source": []
  },
  {
   "cell_type": "code",
   "execution_count": null,
   "metadata": {
    "scrolled": true
   },
   "outputs": [],
   "source": [
    "df = df[df['ENTRY_COUNTS'] < 4000]"
   ]
  },
  {
   "cell_type": "code",
   "execution_count": null,
   "metadata": {},
   "outputs": [],
   "source": []
  },
  {
   "cell_type": "code",
   "execution_count": null,
   "metadata": {},
   "outputs": [],
   "source": [
    "df.loc[36217:36221]"
   ]
  },
  {
   "cell_type": "code",
   "execution_count": null,
   "metadata": {},
   "outputs": [],
   "source": [
    "df.ENTRY_COUNTS.median()"
   ]
  },
  {
   "cell_type": "code",
   "execution_count": null,
   "metadata": {},
   "outputs": [],
   "source": [
    "df.ENTRY_COUNTS.mean()"
   ]
  },
  {
   "cell_type": "code",
   "execution_count": null,
   "metadata": {},
   "outputs": [],
   "source": [
    "df.head()"
   ]
  },
  {
   "cell_type": "code",
   "execution_count": null,
   "metadata": {},
   "outputs": [],
   "source": []
  },
  {
   "cell_type": "code",
   "execution_count": null,
   "metadata": {},
   "outputs": [],
   "source": []
  },
  {
   "cell_type": "code",
   "execution_count": null,
   "metadata": {},
   "outputs": [],
   "source": []
  },
  {
   "cell_type": "code",
   "execution_count": null,
   "metadata": {},
   "outputs": [],
   "source": []
  },
  {
   "cell_type": "code",
   "execution_count": null,
   "metadata": {},
   "outputs": [],
   "source": []
  },
  {
   "cell_type": "code",
   "execution_count": null,
   "metadata": {},
   "outputs": [],
   "source": []
  },
  {
   "cell_type": "code",
   "execution_count": null,
   "metadata": {},
   "outputs": [],
   "source": [
    "# Create a dict dataframes that contain the turnstile data for each station\n",
    "dict_of_station_frames = {station : df[df.STATION == station] for station in df['STATION'].unique()}\n",
    "len(dict_of_station_frames.keys())"
   ]
  },
  {
   "cell_type": "code",
   "execution_count": null,
   "metadata": {},
   "outputs": [],
   "source": [
    "dict_of_station_frames['59 ST'].head()"
   ]
  },
  {
   "cell_type": "code",
   "execution_count": null,
   "metadata": {},
   "outputs": [],
   "source": [
    "for name in dict_of_station_frames.keys():\n",
    "    print(name + ':\\n')\n",
    "    print(dict_of_station_frames[name].describe())"
   ]
  },
  {
   "cell_type": "code",
   "execution_count": null,
   "metadata": {},
   "outputs": [],
   "source": [
    "station_counts = defaultdict(int)\n",
    "for name in dict_of_station_frames.keys():\n",
    "    frame = dict_of_station_frames[name].copy()\n",
    "    frame['ENTRY_COUNT'] = frame['ENTRIES'] - frame['ENTRIES'].shift(1)\n",
    "    frame['ENTRY_COUNT'].fillna(0, inplace=True)\n",
    "    dict_of_station_frames[name] = frame\n",
    "    print(dict_of_station_frames[name].head(5))\n",
    "    station_counts[name] = dict_of_station_frames[name]['ENTRY_COUNT'].sum()"
   ]
  },
  {
   "cell_type": "code",
   "execution_count": null,
   "metadata": {},
   "outputs": [],
   "source": [
    "for key, value in station_counts.items():\n",
    "    print(key, ':', value)"
   ]
  },
  {
   "cell_type": "code",
   "execution_count": null,
   "metadata": {},
   "outputs": [],
   "source": [
    "for name in dict_of_station_frames.keys():\n",
    "    "
   ]
  },
  {
   "cell_type": "code",
   "execution_count": null,
   "metadata": {},
   "outputs": [],
   "source": []
  },
  {
   "cell_type": "code",
   "execution_count": null,
   "metadata": {},
   "outputs": [],
   "source": []
  },
  {
   "cell_type": "code",
   "execution_count": null,
   "metadata": {},
   "outputs": [],
   "source": []
  },
  {
   "cell_type": "code",
   "execution_count": null,
   "metadata": {},
   "outputs": [],
   "source": [
    "df.head()"
   ]
  },
  {
   "cell_type": "code",
   "execution_count": null,
   "metadata": {},
   "outputs": [],
   "source": [
    "# Filter data to daylight hours\n",
    "times = ['12:00:00', '16:00:00', '20:00:00']\n",
    "df = df[df['TIME'].isin(times)]"
   ]
  },
  {
   "cell_type": "code",
   "execution_count": null,
   "metadata": {},
   "outputs": [],
   "source": []
  },
  {
   "cell_type": "code",
   "execution_count": null,
   "metadata": {},
   "outputs": [],
   "source": []
  },
  {
   "cell_type": "code",
   "execution_count": null,
   "metadata": {},
   "outputs": [],
   "source": []
  },
  {
   "cell_type": "code",
   "execution_count": null,
   "metadata": {},
   "outputs": [],
   "source": [
    "gd = df.groupby(['STATION', 'WEEKDAY', 'TIME'], as_index=False).count()"
   ]
  },
  {
   "cell_type": "code",
   "execution_count": null,
   "metadata": {},
   "outputs": [],
   "source": [
    "gd.head()"
   ]
  },
  {
   "cell_type": "code",
   "execution_count": null,
   "metadata": {},
   "outputs": [],
   "source": []
  }
 ],
 "metadata": {
  "kernelspec": {
   "display_name": "Python [conda env:metis] *",
   "language": "python",
   "name": "conda-env-metis-py"
  },
  "language_info": {
   "codemirror_mode": {
    "name": "ipython",
    "version": 3
   },
   "file_extension": ".py",
   "mimetype": "text/x-python",
   "name": "python",
   "nbconvert_exporter": "python",
   "pygments_lexer": "ipython3",
   "version": "3.7.4"
  }
 },
 "nbformat": 4,
 "nbformat_minor": 2
}
