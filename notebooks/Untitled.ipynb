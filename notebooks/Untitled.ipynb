{
 "cells": [
  {
   "cell_type": "code",
   "execution_count": null,
   "metadata": {},
   "outputs": [],
   "source": []
  },
  {
   "cell_type": "code",
   "execution_count": 8,
   "metadata": {},
   "outputs": [],
   "source": [
    "# Imports\n",
    "import pandas as pd\n",
    "from glob import glob\n",
    "from datetime import datetime, date, time, timedelta"
   ]
  },
  {
   "cell_type": "code",
   "execution_count": 4,
   "metadata": {},
   "outputs": [
    {
     "data": {
      "text/plain": [
       "['../data/turnstile_190330.txt',\n",
       " '../data/turnstile_190518.txt',\n",
       " '../data/turnstile_190525.txt',\n",
       " '../data/turnstile_190323.txt',\n",
       " '../data/turnstile_190309.txt',\n",
       " '../data/turnstile_190420.txt',\n",
       " '../data/turnstile_190427.txt',\n",
       " '../data/turnstile_190601.txt',\n",
       " '../data/turnstile_190406.txt',\n",
       " '../data/turnstile_190413.txt',\n",
       " '../data/turnstile_190511.txt',\n",
       " '../data/turnstile_190504.txt',\n",
       " '../data/turnstile_190316.txt',\n",
       " '../data/turnstile_190302.txt']"
      ]
     },
     "execution_count": 4,
     "metadata": {},
     "output_type": "execute_result"
    }
   ],
   "source": [
    "# Read data files\n",
    "list_of_data_files = glob('../data/*.txt')\n",
    "list_of_data_files"
   ]
  },
  {
   "cell_type": "code",
   "execution_count": 10,
   "metadata": {},
   "outputs": [
    {
     "data": {
      "text/html": [
       "<div>\n",
       "<style scoped>\n",
       "    .dataframe tbody tr th:only-of-type {\n",
       "        vertical-align: middle;\n",
       "    }\n",
       "\n",
       "    .dataframe tbody tr th {\n",
       "        vertical-align: top;\n",
       "    }\n",
       "\n",
       "    .dataframe thead th {\n",
       "        text-align: right;\n",
       "    }\n",
       "</style>\n",
       "<table border=\"1\" class=\"dataframe\">\n",
       "  <thead>\n",
       "    <tr style=\"text-align: right;\">\n",
       "      <th></th>\n",
       "      <th>C/A</th>\n",
       "      <th>UNIT</th>\n",
       "      <th>SCP</th>\n",
       "      <th>STATION</th>\n",
       "      <th>LINENAME</th>\n",
       "      <th>DIVISION</th>\n",
       "      <th>DATE</th>\n",
       "      <th>TIME</th>\n",
       "      <th>DESC</th>\n",
       "      <th>ENTRIES</th>\n",
       "      <th>EXITS</th>\n",
       "    </tr>\n",
       "  </thead>\n",
       "  <tbody>\n",
       "    <tr>\n",
       "      <td>0</td>\n",
       "      <td>A002</td>\n",
       "      <td>R051</td>\n",
       "      <td>02-00-00</td>\n",
       "      <td>59 ST</td>\n",
       "      <td>NQR456W</td>\n",
       "      <td>BMT</td>\n",
       "      <td>2019-03-23</td>\n",
       "      <td>2019-09-23 00:00:00</td>\n",
       "      <td>REGULAR</td>\n",
       "      <td>6989774</td>\n",
       "      <td>2370411</td>\n",
       "    </tr>\n",
       "    <tr>\n",
       "      <td>1</td>\n",
       "      <td>A002</td>\n",
       "      <td>R051</td>\n",
       "      <td>02-00-00</td>\n",
       "      <td>59 ST</td>\n",
       "      <td>NQR456W</td>\n",
       "      <td>BMT</td>\n",
       "      <td>2019-03-23</td>\n",
       "      <td>2019-09-23 04:00:00</td>\n",
       "      <td>REGULAR</td>\n",
       "      <td>6989795</td>\n",
       "      <td>2370413</td>\n",
       "    </tr>\n",
       "    <tr>\n",
       "      <td>2</td>\n",
       "      <td>A002</td>\n",
       "      <td>R051</td>\n",
       "      <td>02-00-00</td>\n",
       "      <td>59 ST</td>\n",
       "      <td>NQR456W</td>\n",
       "      <td>BMT</td>\n",
       "      <td>2019-03-23</td>\n",
       "      <td>2019-09-23 08:00:00</td>\n",
       "      <td>REGULAR</td>\n",
       "      <td>6989813</td>\n",
       "      <td>2370436</td>\n",
       "    </tr>\n",
       "    <tr>\n",
       "      <td>3</td>\n",
       "      <td>A002</td>\n",
       "      <td>R051</td>\n",
       "      <td>02-00-00</td>\n",
       "      <td>59 ST</td>\n",
       "      <td>NQR456W</td>\n",
       "      <td>BMT</td>\n",
       "      <td>2019-03-23</td>\n",
       "      <td>2019-09-23 12:00:00</td>\n",
       "      <td>REGULAR</td>\n",
       "      <td>6989924</td>\n",
       "      <td>2370512</td>\n",
       "    </tr>\n",
       "    <tr>\n",
       "      <td>4</td>\n",
       "      <td>A002</td>\n",
       "      <td>R051</td>\n",
       "      <td>02-00-00</td>\n",
       "      <td>59 ST</td>\n",
       "      <td>NQR456W</td>\n",
       "      <td>BMT</td>\n",
       "      <td>2019-03-23</td>\n",
       "      <td>2019-09-23 16:00:00</td>\n",
       "      <td>REGULAR</td>\n",
       "      <td>6990200</td>\n",
       "      <td>2370573</td>\n",
       "    </tr>\n",
       "  </tbody>\n",
       "</table>\n",
       "</div>"
      ],
      "text/plain": [
       "    C/A  UNIT       SCP STATION LINENAME DIVISION       DATE  \\\n",
       "0  A002  R051  02-00-00   59 ST  NQR456W      BMT 2019-03-23   \n",
       "1  A002  R051  02-00-00   59 ST  NQR456W      BMT 2019-03-23   \n",
       "2  A002  R051  02-00-00   59 ST  NQR456W      BMT 2019-03-23   \n",
       "3  A002  R051  02-00-00   59 ST  NQR456W      BMT 2019-03-23   \n",
       "4  A002  R051  02-00-00   59 ST  NQR456W      BMT 2019-03-23   \n",
       "\n",
       "                 TIME     DESC  ENTRIES  \\\n",
       "0 2019-09-23 00:00:00  REGULAR  6989774   \n",
       "1 2019-09-23 04:00:00  REGULAR  6989795   \n",
       "2 2019-09-23 08:00:00  REGULAR  6989813   \n",
       "3 2019-09-23 12:00:00  REGULAR  6989924   \n",
       "4 2019-09-23 16:00:00  REGULAR  6990200   \n",
       "\n",
       "   EXITS                                                                 \n",
       "0                                            2370411                     \n",
       "1                                            2370413                     \n",
       "2                                            2370436                     \n",
       "3                                            2370512                     \n",
       "4                                            2370573                     "
      ]
     },
     "execution_count": 10,
     "metadata": {},
     "output_type": "execute_result"
    }
   ],
   "source": [
    "# Read data files into pandas dataframes\n",
    "list_of_dataframes = [pd.read_csv(file, parse_dates=['DATE', 'TIME']) for file in list_of_data_files]\n",
    "df = pd.concat(list_of_dataframes)\n",
    "df.head()"
   ]
  },
  {
   "cell_type": "code",
   "execution_count": 9,
   "metadata": {},
   "outputs": [
    {
     "name": "stdout",
     "output_type": "stream",
     "text": [
      "<class 'pandas.core.frame.DataFrame'>\n",
      "Int64Index: 2857148 entries, 0 to 203188\n",
      "Data columns (total 11 columns):\n",
      "C/A                                                                     object\n",
      "UNIT                                                                    object\n",
      "SCP                                                                     object\n",
      "STATION                                                                 object\n",
      "LINENAME                                                                object\n",
      "DIVISION                                                                object\n",
      "DATE                                                                    object\n",
      "TIME                                                                    object\n",
      "DESC                                                                    object\n",
      "ENTRIES                                                                 int64\n",
      "EXITS                                                                   int64\n",
      "dtypes: int64(2), object(9)\n",
      "memory usage: 261.6+ MB\n"
     ]
    }
   ],
   "source": [
    "df.info()"
   ]
  },
  {
   "cell_type": "code",
   "execution_count": null,
   "metadata": {},
   "outputs": [],
   "source": []
  },
  {
   "cell_type": "code",
   "execution_count": null,
   "metadata": {},
   "outputs": [],
   "source": []
  }
 ],
 "metadata": {
  "kernelspec": {
   "display_name": "Python [conda env:metis] *",
   "language": "python",
   "name": "conda-env-metis-py"
  },
  "language_info": {
   "codemirror_mode": {
    "name": "ipython",
    "version": 3
   },
   "file_extension": ".py",
   "mimetype": "text/x-python",
   "name": "python",
   "nbconvert_exporter": "python",
   "pygments_lexer": "ipython3",
   "version": "3.7.4"
  }
 },
 "nbformat": 4,
 "nbformat_minor": 2
}
